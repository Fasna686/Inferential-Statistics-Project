{
 "cells": [
  {
   "cell_type": "markdown",
   "id": "557b370c",
   "metadata": {},
   "source": [
    "## Graded Project AS"
   ]
  },
  {
   "cell_type": "markdown",
   "id": "7b9a5017",
   "metadata": {},
   "source": [
    "### Problem 1\n",
    "\n",
    "A team of physiotherapists wants to analyze foot injury cases with respect to the player's position in football matches. They collected the data of 235 football players who played football matches in the last 1 week (1 player played only 1 match). The data is given in the table below.  "
   ]
  },
  {
   "cell_type": "markdown",
   "id": "7985000c",
   "metadata": {},
   "source": [
    "|             | Striker | Forward | Attacking Midfielder | Winger | Total |\n",
    "|-------------|---------|---------|-----------------------|--------|-------|\n",
    "| Players Injured | 45 | 56 | 24 | 20 | 145 |\n",
    "| Players Not Injured | 32 | 38 | 11 | 9 | 90 |\n",
    "| Total          | 77 | 94 | 35 | 29 | 235 |"
   ]
  },
  {
   "cell_type": "markdown",
   "id": "b4187cbc",
   "metadata": {},
   "source": [
    "Based on the data, they want to look at the following things:\n",
    "\n",
    "1.1 What is the probability that a randomly chosen player would suffer an injury?\n",
    "\n",
    "1.2 What is the probability that a player is a forward or a winger?\n",
    "\n",
    "1.3 What is the probability that a randomly chosen player plays in a striker position and has a foot injury?\n",
    "\n",
    "1.4 What is the probability that a randomly chosen injured player is a striker?"
   ]
  },
  {
   "cell_type": "markdown",
   "id": "5ca61be2",
   "metadata": {},
   "source": [
    "#### ANSWERS"
   ]
  },
  {
   "cell_type": "code",
   "execution_count": 1,
   "id": "71a889dc",
   "metadata": {},
   "outputs": [],
   "source": [
    "#import the important packages\n",
    "import pandas as pd  # library used for data manipulation and analysis\n",
    "\n",
    "import numpy as np  # library used for working with arrays\n",
    "\n",
    "import matplotlib.pyplot as plt  # library for visualization\n",
    "\n",
    "import seaborn as sns  # library for visualization\n",
    "\n",
    "%matplotlib inline\n",
    "\n",
    "import scipy.stats as stats  # this library contains a large number of probability distributions as well as a growing library of statistical functions"
   ]
  },
  {
   "cell_type": "markdown",
   "id": "d247bd65",
   "metadata": {},
   "source": [
    "###### 1.1 What is the probability that a randomly chosen player would suffer an injury?"
   ]
  },
  {
   "cell_type": "markdown",
   "id": "cc33b2f5",
   "metadata": {},
   "source": [
    "From the given table we can see that the, number of players injured is 145, and the total number of \n",
    "players is 235. Hence the probability that a randomly chosen player is injured is;"
   ]
  },
  {
   "cell_type": "code",
   "execution_count": 2,
   "id": "9c460021",
   "metadata": {},
   "outputs": [
    {
     "data": {
      "text/plain": [
       "0.617"
      ]
     },
     "execution_count": 2,
     "metadata": {},
     "output_type": "execute_result"
    }
   ],
   "source": [
    "#Probability(Player Suffers an Injury) = (Number of Injured Players) / (Total Number of Players)\n",
    "p=(145/235)\n",
    "round(p,4)"
   ]
  },
  {
   "cell_type": "markdown",
   "id": "0c957cfd",
   "metadata": {},
   "source": [
    "So, the probability that a randomly chosen player would suffer an injury is approximately 0.6170, or about 61.70%."
   ]
  },
  {
   "cell_type": "markdown",
   "id": "1dc0c1b3",
   "metadata": {},
   "source": [
    "###### 1.2 What is the probability that a player is a forward or a winger?"
   ]
  },
  {
   "cell_type": "markdown",
   "id": "070a3cac",
   "metadata": {},
   "source": [
    "Total number of players that are forwards or wingers is 123 (94 + 29), and total number of players under \n",
    "study is 235. Hence, the probability that a randomly chosen player is a forward or a winger is;"
   ]
  },
  {
   "cell_type": "code",
   "execution_count": 3,
   "id": "70e41839",
   "metadata": {},
   "outputs": [
    {
     "data": {
      "text/plain": [
       "0.5234"
      ]
     },
     "execution_count": 3,
     "metadata": {},
     "output_type": "execute_result"
    }
   ],
   "source": [
    "# forward player in total+ winger player in total players\n",
    "p=(94+29)/(235)\n",
    "round(p,4)"
   ]
  },
  {
   "cell_type": "markdown",
   "id": "0a690eaf",
   "metadata": {},
   "source": [
    "So, the probability that a player is either a forward or a winger is approximately 0.5234, or about 52.34%."
   ]
  },
  {
   "cell_type": "markdown",
   "id": "262311e9",
   "metadata": {},
   "source": [
    "##### 1.3 What is the probability that a randomly chosen player plays in a striker position and has a foot injury?"
   ]
  },
  {
   "cell_type": "markdown",
   "id": "50ee9510",
   "metadata": {},
   "source": [
    "Note that this is a joint probability problem, where two conditions are being satisfied simultaneously. \n",
    "The number of players who have a foot injury and who play in striker position is 45. The total number of \n",
    "players under consideration is 235. Hence the probability that a player is a striker and is injured is;"
   ]
  },
  {
   "cell_type": "code",
   "execution_count": 4,
   "id": "a4904a45",
   "metadata": {},
   "outputs": [
    {
     "data": {
      "text/plain": [
       "0.1915"
      ]
     },
     "execution_count": 4,
     "metadata": {},
     "output_type": "execute_result"
    }
   ],
   "source": [
    "# the number of players who have foot injury and play in striker position is 45/total players\n",
    "p=(45/235)\n",
    "round(p,4)"
   ]
  },
  {
   "cell_type": "markdown",
   "id": "5ce8d0b5",
   "metadata": {},
   "source": [
    "So, the probability that a randomly chosen player plays in a striker position and has a foot injury is approximately 0.1915, or about 19.15%."
   ]
  },
  {
   "cell_type": "markdown",
   "id": "1622e506",
   "metadata": {},
   "source": [
    "#### 1.4 What is the probability that a randomly chosen injured player is a striker?"
   ]
  },
  {
   "cell_type": "markdown",
   "id": "2fe603ca",
   "metadata": {},
   "source": [
    "Note that this is a conditional probability problem, because not all players and considered. Given that \n",
    "the chosen player is injured we need to find the probability that he is a striker. Since there are 145 \n",
    "injured players. The conditional probability is;"
   ]
  },
  {
   "cell_type": "code",
   "execution_count": 5,
   "id": "bd29b24b",
   "metadata": {},
   "outputs": [
    {
     "data": {
      "text/plain": [
       "0.3103"
      ]
     },
     "execution_count": 5,
     "metadata": {},
     "output_type": "execute_result"
    }
   ],
   "source": [
    "#Probability(Injured Player is a Striker) = (Number of Injured Strikers) / (Total Number of Injured Players)\n",
    "p=45/145\n",
    "round(p,4)"
   ]
  },
  {
   "cell_type": "markdown",
   "id": "679ec63e",
   "metadata": {},
   "source": [
    "So, the probability that a randomly chosen injured player is a striker is approximately 0.3103, or about 31.03%."
   ]
  },
  {
   "cell_type": "markdown",
   "id": "a5aebcd9",
   "metadata": {},
   "source": [
    "### Problem 2:\n",
    "\n",
    "The breaking strength of gunny bags used for packaging cement is normally distributed with a mean of 5 kg per sq. centimeter and a standard deviation of 1.5 kg per sq. centimeter. The quality team of the cement company wants to know the following about the packaging material to better understand wastage or pilferage within the supply chain; Answer the questions below based on the given information; (Provide an appropriate visual representation of your answers, without which marks will be deducted)\n",
    "\n",
    "\n",
    "\n",
    "2.1 What proportion of the gunny bags have a breaking strength less than 3.17 kg per sq cm?\n",
    "\n",
    "2.2 What proportion of the gunny bags have a breaking strength at least 3.6 kg per sq cm.?\n",
    "\n",
    "2.3 What proportion of the gunny bags have a breaking strength between 5 and 5.5 kg per sq cm.?\n",
    "\n",
    "2.4 What proportion of the gunny bags have a breaking strength NOT between 3 and 7.5 kg per sq cm.?\n",
    "\n"
   ]
  },
  {
   "cell_type": "markdown",
   "id": "03be0b15",
   "metadata": {},
   "source": [
    "#### ANSWERS"
   ]
  },
  {
   "cell_type": "markdown",
   "id": "1b29c5e0",
   "metadata": {},
   "source": [
    "##### Find the minimum and Maximum points\n",
    "max_value=mean+3(standard deviation)\n",
    "\n",
    "mini_value=mean-3(standard deviation)"
   ]
  },
  {
   "cell_type": "code",
   "execution_count": 6,
   "id": "a6e5f006",
   "metadata": {},
   "outputs": [
    {
     "name": "stdout",
     "output_type": "stream",
     "text": [
      "maximum: 9.5 \n",
      "minimum: 0.5\n"
     ]
    }
   ],
   "source": [
    "m,s=5,1.5\n",
    "max=m+3*s\n",
    "mini=m-3*s\n",
    "print(\"maximum:\",max,\"\\nminimum:\",mini)"
   ]
  },
  {
   "cell_type": "markdown",
   "id": "4d8f349a",
   "metadata": {},
   "source": [
    "##### 2.1 What proportion of the gunny bags have a breaking strength less than 3.17 kg per sq cm?"
   ]
  },
  {
   "cell_type": "markdown",
   "id": "8f8d7fad",
   "metadata": {},
   "source": [
    "Using the mean and the standard deviation of the normal distribution, we need to find the probability \n",
    "of a gunny bag having a breaking strength less than 3.17 kg per sq cm.(cumulative probability \n",
    "calculated using stats.norm.cdf function). \n",
    "\n",
    "P (Breaking strength < 3.17)"
   ]
  },
  {
   "cell_type": "code",
   "execution_count": 7,
   "id": "6c332a7f",
   "metadata": {},
   "outputs": [
    {
     "data": {
      "text/plain": [
       "0.1112"
      ]
     },
     "execution_count": 7,
     "metadata": {},
     "output_type": "execute_result"
    }
   ],
   "source": [
    "from scipy.stats import norm\n",
    "#using cumulative distribution function find the probability of breaking strength less than 3.17\n",
    "#mean\n",
    "m=5\n",
    "#s-standard deviation\n",
    "s=1.5\n",
    "p=stats.norm.cdf(3.17,m,s).round(4)\n",
    "p"
   ]
  },
  {
   "cell_type": "code",
   "execution_count": 8,
   "id": "000f173d",
   "metadata": {
    "scrolled": true
   },
   "outputs": [
    {
     "data": {
      "image/png": "[encoded data removed]",
      "text/plain": [
       "<Figure size 600x200 with 1 Axes>"
      ]
     },
     "metadata": {},
     "output_type": "display_data"
    }
   ],
   "source": [
    "#visualize probability of breaking strength less than 3.17\n",
    "# Generate x values for the CDF plot\n",
    "x=np.linspace(mini,max,100)\n",
    "plt.figure(figsize=(6,2))\n",
    "# plot CDF values for the x values\n",
    "plt.plot(x,norm.pdf(x,m,s))\n",
    "#plot a vertical dashd line through 3.17\n",
    "plt.axvline(3.17,c=\"r\",linestyle='--')\n",
    "# Generate x values for the CDF plot less than 3.17\n",
    "x1=np.linspace(mini,3.17,100)\n",
    "#shaded region minimum to 3.17\n",
    "plt.fill_between(x1, norm.pdf(x1, m, s), color=\"pink\")\n",
    "plt.xlabel(\"breaking strength\") \n",
    "plt.ylabel(\"Probability\");"
   ]
  },
  {
   "cell_type": "markdown",
   "id": "ab480002",
   "metadata": {},
   "source": [
    "##### 2.2 What proportion of the gunny bags have a breaking strength at least 3.6 kg per sq cm.?"
   ]
  },
  {
   "cell_type": "markdown",
   "id": "2b0fc737",
   "metadata": {},
   "source": [
    "Using the mean and the standard deviation of the normal distribution, we need to find the probability of a gunny bag having a breaking strength at least 3.6 kg per sq cm. \n",
    "\n",
    "P (Breaking strength > 3.6)"
   ]
  },
  {
   "cell_type": "code",
   "execution_count": 9,
   "id": "a2a94ef9",
   "metadata": {},
   "outputs": [
    {
     "data": {
      "text/plain": [
       "0.8247"
      ]
     },
     "execution_count": 9,
     "metadata": {},
     "output_type": "execute_result"
    }
   ],
   "source": [
    "#(Cumulative probability calculated using stats.norm.cdf function).\n",
    "p=1-stats.norm.cdf(3.6,m,s).round(4)\n",
    "p"
   ]
  },
  {
   "cell_type": "code",
   "execution_count": 10,
   "id": "4470f918",
   "metadata": {},
   "outputs": [
    {
     "data": {
      "image/png": "[encoded data removed]",
      "text/plain": [
       "<Figure size 600x400 with 1 Axes>"
      ]
     },
     "metadata": {},
     "output_type": "display_data"
    }
   ],
   "source": [
    "#visualize proportion of the gunny bags have a breaking strength at least 3.6 kg per sq cm\n",
    "plt.figure(figsize=(6,4))\n",
    "plt.plot(x,norm.pdf(x,m,s))\n",
    "plt.axvline(3.6,c=\"r\",linestyle='--')\n",
    "x1=np.linspace(3.6,max,100)\n",
    "plt.fill_between(x1,norm.pdf(x1,m,s),color=\"pink\")\n",
    "plt.xlabel(\"breaking strength\") \n",
    "plt.ylabel(\"Probability\");"
   ]
  },
  {
   "cell_type": "markdown",
   "id": "3bc5e994",
   "metadata": {},
   "source": [
    "###### 2.3 What proportion of the gunny bags have a breaking strength between 5 and 5.5 kg per sq cm.?"
   ]
  },
  {
   "cell_type": "markdown",
   "id": "0880e0a2",
   "metadata": {},
   "source": [
    "Using the mean and the standard deviation of the normal distribution, we need to find the probability of a gunny bag having a breaking strength between 5kg per sq cm and 5.5 kg per sq cm.P (5 < Breaking strength < 5.5) "
   ]
  },
  {
   "cell_type": "code",
   "execution_count": 11,
   "id": "11a6a119",
   "metadata": {},
   "outputs": [
    {
     "data": {
      "text/plain": [
       "0.1306"
      ]
     },
     "execution_count": 11,
     "metadata": {},
     "output_type": "execute_result"
    }
   ],
   "source": [
    "#(Cumulative probability calculated using stats.norm.cdf function) for P (5 < Breaking strength < 5.5)\n",
    "(stats.norm.cdf(5.5,m,s)-stats.norm.cdf(5,m,s)).round(4)"
   ]
  },
  {
   "cell_type": "code",
   "execution_count": 12,
   "id": "8c42a40a",
   "metadata": {},
   "outputs": [
    {
     "data": {
      "image/png": "[encoded data removed]",
      "text/plain": [
       "<Figure size 600x400 with 1 Axes>"
      ]
     },
     "metadata": {},
     "output_type": "display_data"
    }
   ],
   "source": [
    "#visualize  proportion of the gunny bags have a breaking strength between 5 and 5.5 kg per sq cm\n",
    "plt.figure(figsize=(6,4))\n",
    "plt.plot(x,norm.pdf(x,m,s))\n",
    "plt.axvline(5,c=\"r\",linestyle=\"--\")\n",
    "plt.axvline(5.5,c=\"r\",linestyle='--')\n",
    "x1=np.linspace(5,5.5,100)\n",
    "plt.fill_between(x1,norm.pdf(x1,m,s),color=\"pink\")\n",
    "plt.xlabel(\"breaking strength\") \n",
    "plt.ylabel(\"Probability\");"
   ]
  },
  {
   "cell_type": "markdown",
   "id": "80639a7b",
   "metadata": {},
   "source": [
    "##### 2.4 What proportion of the gunny bags have a breaking strength NOT between 3 and 7.5 kg per sq cm.?"
   ]
  },
  {
   "cell_type": "markdown",
   "id": "3c6cbc1f",
   "metadata": {},
   "source": [
    "Using the mean and the standard deviation of the normal distribution, we need to find the probability of a gunny bag having a breaking strength NOT between 3 and 7.5 kg per sq cm.\n",
    "\n",
    "1 – P (3 < Breaking strength < 7.5)"
   ]
  },
  {
   "cell_type": "code",
   "execution_count": 13,
   "id": "86bb9683",
   "metadata": {},
   "outputs": [
    {
     "data": {
      "text/plain": [
       "0.139"
      ]
     },
     "execution_count": 13,
     "metadata": {},
     "output_type": "execute_result"
    }
   ],
   "source": [
    "#using cdf function probability of a gunny bag having a breaking strength NOT between 3 and 7.5 kg per sq cm.\n",
    "(1-(stats.norm.cdf(7.5,5,1.5)-stats.norm.cdf(3,5,1.5))).round(5)"
   ]
  },
  {
   "cell_type": "code",
   "execution_count": 14,
   "id": "c43a580b",
   "metadata": {},
   "outputs": [
    {
     "data": {
      "image/png": "[encoded data removed]",
      "text/plain": [
       "<Figure size 600x400 with 1 Axes>"
      ]
     },
     "metadata": {},
     "output_type": "display_data"
    }
   ],
   "source": [
    "#visualize probability of a gunny bag having a breaking strength NOT between 3 and 7.5 kg per sq cm\n",
    "plt.figure(figsize=(6,4))\n",
    "plt.plot(x,norm.pdf(x,m,s))\n",
    "plt.axvline(3,c=\"r\",linestyle=\"--\")\n",
    "plt.axvline(7.5,c=\"r\",linestyle=\"--\")\n",
    "x1=np.linspace(mini,3,100)\n",
    "x2=np.linspace(7.5,max,100)\n",
    "plt.fill_between(x1,norm.pdf(x1,m,s),color=\"pink\")\n",
    "plt.fill_between(x2,norm.pdf(x2,m,s),color=\"pink\")\n",
    "plt.xlabel(\"breaking strength\") \n",
    "plt.ylabel(\"Probability\");"
   ]
  },
  {
   "cell_type": "markdown",
   "id": "65fe73ab",
   "metadata": {},
   "source": [
    "### Problem 3\n",
    "Zingaro stone printing is a company that specializes in printing images or patterns on polished or unpolished stones. However, for the optimum level of printing of the image, the stone surface has to have a Brinell's hardness index of at least 150. Recently, Zingaro has received a batch of polished and unpolished stones from its clients. Use the data provided to answer the following (assuming a 5% significance level);\n",
    "\n",
    "3.1 Zingaro has reason to believe that the unpolished stones may not be suitable for printing. Do you think Zingaro is justified in thinking so?\n",
    "\n",
    "3.2 Is the mean hardness of the polished and unpolished stones the same?"
   ]
  },
  {
   "cell_type": "code",
   "execution_count": 15,
   "id": "0b2754f2",
   "metadata": {},
   "outputs": [
    {
     "data": {
      "text/html": [
       "<div>\n",
       "<style scoped>\n",
       "    .dataframe tbody tr th:only-of-type {\n",
       "        vertical-align: middle;\n",
       "    }\n",
       "\n",
       "    .dataframe tbody tr th {\n",
       "        vertical-align: top;\n",
       "    }\n",
       "\n",
       "    .dataframe thead th {\n",
       "        text-align: right;\n",
       "    }\n",
       "</style>\n",
       "<table border=\"1\" class=\"dataframe\">\n",
       "  <thead>\n",
       "    <tr style=\"text-align: right;\">\n",
       "      <th></th>\n",
       "      <th>Unpolished</th>\n",
       "      <th>Treated and Polished</th>\n",
       "    </tr>\n",
       "  </thead>\n",
       "  <tbody>\n",
       "    <tr>\n",
       "      <th>0</th>\n",
       "      <td>164.481713</td>\n",
       "      <td>133.209393</td>\n",
       "    </tr>\n",
       "    <tr>\n",
       "      <th>1</th>\n",
       "      <td>154.307045</td>\n",
       "      <td>138.482771</td>\n",
       "    </tr>\n",
       "    <tr>\n",
       "      <th>2</th>\n",
       "      <td>129.861048</td>\n",
       "      <td>159.665201</td>\n",
       "    </tr>\n",
       "    <tr>\n",
       "      <th>3</th>\n",
       "      <td>159.096184</td>\n",
       "      <td>145.663528</td>\n",
       "    </tr>\n",
       "    <tr>\n",
       "      <th>4</th>\n",
       "      <td>135.256748</td>\n",
       "      <td>136.789227</td>\n",
       "    </tr>\n",
       "    <tr>\n",
       "      <th>...</th>\n",
       "      <td>...</td>\n",
       "      <td>...</td>\n",
       "    </tr>\n",
       "    <tr>\n",
       "      <th>70</th>\n",
       "      <td>123.067611</td>\n",
       "      <td>142.293544</td>\n",
       "    </tr>\n",
       "    <tr>\n",
       "      <th>71</th>\n",
       "      <td>171.822218</td>\n",
       "      <td>140.124092</td>\n",
       "    </tr>\n",
       "    <tr>\n",
       "      <th>72</th>\n",
       "      <td>88.135994</td>\n",
       "      <td>141.393091</td>\n",
       "    </tr>\n",
       "    <tr>\n",
       "      <th>73</th>\n",
       "      <td>145.150397</td>\n",
       "      <td>131.370530</td>\n",
       "    </tr>\n",
       "    <tr>\n",
       "      <th>74</th>\n",
       "      <td>170.854823</td>\n",
       "      <td>144.502647</td>\n",
       "    </tr>\n",
       "  </tbody>\n",
       "</table>\n",
       "<p>75 rows × 2 columns</p>\n",
       "</div>"
      ],
      "text/plain": [
       "    Unpolished   Treated and Polished\n",
       "0    164.481713            133.209393\n",
       "1    154.307045            138.482771\n",
       "2    129.861048            159.665201\n",
       "3    159.096184            145.663528\n",
       "4    135.256748            136.789227\n",
       "..          ...                   ...\n",
       "70   123.067611            142.293544\n",
       "71   171.822218            140.124092\n",
       "72    88.135994            141.393091\n",
       "73   145.150397            131.370530\n",
       "74   170.854823            144.502647\n",
       "\n",
       "[75 rows x 2 columns]"
      ]
     },
     "execution_count": 15,
     "metadata": {},
     "output_type": "execute_result"
    }
   ],
   "source": [
    "#read the data file\n",
    "d=pd.read_csv(\"Zingaro_company.csv\")\n",
    "d"
   ]
  },
  {
   "cell_type": "markdown",
   "id": "54cb8d9f",
   "metadata": {},
   "source": [
    "#### ANSWERS"
   ]
  },
  {
   "cell_type": "markdown",
   "id": "90b0bb1b",
   "metadata": {},
   "source": [
    "##### 3.1 Zingaro has reason to believe that the unpolished stones may not be suitable for printing. Do you think Zingaro is justified in thinking so?"
   ]
  },
  {
   "cell_type": "markdown",
   "id": "95b1c669",
   "metadata": {},
   "source": [
    "To determine whether Zingaro has reason to believe that the unpolished stones may not be suitable for printing, you can conduct a hypothesis test"
   ]
  },
  {
   "cell_type": "markdown",
   "id": "62276922",
   "metadata": {},
   "source": [
    "H0: μ ≥ 150 (Mean hardness index of unpolished stones is greater than or equal to 150)\n",
    "\n",
    "H1: μ < 150 (Mean hardness index of unpolished stones is less than 150)"
   ]
  },
  {
   "cell_type": "code",
   "execution_count": 16,
   "id": "ecc51b58",
   "metadata": {},
   "outputs": [
    {
     "name": "stdout",
     "output_type": "stream",
     "text": [
      "test stat value: -4.1646 \n",
      "p_value: 0.0001\n"
     ]
    }
   ],
   "source": [
    "#find the test static value and p value using 1 sample T test \n",
    "t, p=stats.ttest_1samp(d[\"Unpolished \"],150)\n",
    "print(\"test stat value:\",t.round(4),\"\\np_value:\",p.round(4)) "
   ]
  },
  {
   "cell_type": "markdown",
   "id": "47e7784d",
   "metadata": {},
   "source": [
    " p value of the test is 0.001%"
   ]
  },
  {
   "cell_type": "markdown",
   "id": "94b7cd9e",
   "metadata": {},
   "source": [
    " the P-value is smaller than the level of significance. Hence,reject the Null Hypothesis that the unpolished stone surfaces have an average hardness index of at least 150 is rejected. \n",
    "Zingero is justified in concluding that the unpolished stones are not suitable for optimal level of printing."
   ]
  },
  {
   "cell_type": "markdown",
   "id": "1003ead2",
   "metadata": {},
   "source": [
    "##### 3.2 Is the mean hardness of the polished and unpolished stones the same?"
   ]
  },
  {
   "cell_type": "markdown",
   "id": "a86458a6",
   "metadata": {},
   "source": [
    "\n",
    "- State the null and alternate hypotheses. - Conduct the hypothesis test. - Write down conclusions from the test results. Note: Consider the level of significance as 5%."
   ]
  },
  {
   "cell_type": "code",
   "execution_count": 17,
   "id": "23b0f784",
   "metadata": {},
   "outputs": [],
   "source": [
    "#ANSWER"
   ]
  },
  {
   "cell_type": "markdown",
   "id": "2b102032",
   "metadata": {},
   "source": [
    "H0: The population mean hardness for Polished stones and Unpolished stones is equal \n",
    "\n",
    "(µp = µu) or      (µp - µu =0) \n",
    "\n",
    " H1: The population mean hardness for Polished stones and Unpolished stones is not equal\n",
    " \n",
    "(µp ≠ µu) or (µp - µu ≠ 0)"
   ]
  },
  {
   "cell_type": "markdown",
   "id": "058ad73c",
   "metadata": {},
   "source": [
    "Note that this is a two-tailed test with a Level of Significance of 0.05 (α = 5%)."
   ]
  },
  {
   "cell_type": "code",
   "execution_count": 18,
   "id": "17fb1cbd",
   "metadata": {},
   "outputs": [
    {
     "name": "stdout",
     "output_type": "stream",
     "text": [
      "the t-static value: 3.2422 \n",
      "p_value: 0.00147\n"
     ]
    }
   ],
   "source": [
    "#import the libary of t test for 2 independent variables\n",
    "from scipy.stats import ttest_ind\n",
    "#find the test stats,p value \n",
    "t,p=ttest_ind(d[\"Treated and Polished\"],d[\"Unpolished \"])\n",
    "print(\"the t-static value:\",t.round(4),\"\\np_value:\",p.round(5))"
   ]
  },
  {
   "cell_type": "markdown",
   "id": "91886207",
   "metadata": {},
   "source": [
    "p value of test is 0.147%"
   ]
  },
  {
   "cell_type": "markdown",
   "id": "629f03bf",
   "metadata": {},
   "source": [
    "the P-value is smaller than the level of significance(0.05). The Null Hypothesis that the polished stone surfaces have a BHI equal \n",
    "to that of the unpolished stones will be rejected. \n",
    "Average hardness of the polished and the unpolished stones is not equal."
   ]
  },
  {
   "cell_type": "markdown",
   "id": "7f505bf8",
   "metadata": {},
   "source": [
    "### Problem 4\n",
    "Dental implant data: The hardness of metal implants in dental cavities depends on multiple factors, such as the method of implant, the temperature at which the metal is treated, the alloy used as well as the dentists who may favor one method above another and may work better in his/her favorite method. The response is the variable of interest.\n",
    "\n",
    "4.1 How does the hardness of implants vary depending on dentists?\n",
    "\n",
    "4.2 How does the hardness of implants vary depending on methods?\n",
    "\n",
    "4.3 What is the interaction effect between the dentist and method on the hardness of dental implants for each type of alloy?\n",
    "\n",
    "4.4 How does the hardness of implants vary depending on dentists and methods together?\n",
    "\n"
   ]
  },
  {
   "cell_type": "code",
   "execution_count": 32,
   "id": "8bbda9c8",
   "metadata": {
    "scrolled": true
   },
   "outputs": [
    {
     "data": {
      "text/html": [
       "<div>\n",
       "<style scoped>\n",
       "    .dataframe tbody tr th:only-of-type {\n",
       "        vertical-align: middle;\n",
       "    }\n",
       "\n",
       "    .dataframe tbody tr th {\n",
       "        vertical-align: top;\n",
       "    }\n",
       "\n",
       "    .dataframe thead th {\n",
       "        text-align: right;\n",
       "    }\n",
       "</style>\n",
       "<table border=\"1\" class=\"dataframe\">\n",
       "  <thead>\n",
       "    <tr style=\"text-align: right;\">\n",
       "      <th></th>\n",
       "      <th>Dentist</th>\n",
       "      <th>Method</th>\n",
       "      <th>Alloy</th>\n",
       "      <th>Temp</th>\n",
       "      <th>Response</th>\n",
       "      <th>Unnamed: 5</th>\n",
       "      <th>Unnamed: 6</th>\n",
       "      <th>Unnamed: 7</th>\n",
       "      <th>Unnamed: 8</th>\n",
       "      <th>Unnamed: 9</th>\n",
       "      <th>Unnamed: 10</th>\n",
       "      <th>Unnamed: 11</th>\n",
       "      <th>Unnamed: 12</th>\n",
       "      <th>Unnamed: 13</th>\n",
       "    </tr>\n",
       "  </thead>\n",
       "  <tbody>\n",
       "    <tr>\n",
       "      <th>0</th>\n",
       "      <td>1.0</td>\n",
       "      <td>1.0</td>\n",
       "      <td>1.0</td>\n",
       "      <td>1500.0</td>\n",
       "      <td>813.0</td>\n",
       "      <td>NaN</td>\n",
       "      <td>NaN</td>\n",
       "      <td>Anova: Two-Factor Without Replication</td>\n",
       "      <td>NaN</td>\n",
       "      <td>NaN</td>\n",
       "      <td>NaN</td>\n",
       "      <td>NaN</td>\n",
       "      <td>NaN</td>\n",
       "      <td>NaN</td>\n",
       "    </tr>\n",
       "    <tr>\n",
       "      <th>1</th>\n",
       "      <td>1.0</td>\n",
       "      <td>1.0</td>\n",
       "      <td>1.0</td>\n",
       "      <td>1600.0</td>\n",
       "      <td>792.0</td>\n",
       "      <td>NaN</td>\n",
       "      <td>NaN</td>\n",
       "      <td>NaN</td>\n",
       "      <td>NaN</td>\n",
       "      <td>NaN</td>\n",
       "      <td>NaN</td>\n",
       "      <td>NaN</td>\n",
       "      <td>NaN</td>\n",
       "      <td>NaN</td>\n",
       "    </tr>\n",
       "    <tr>\n",
       "      <th>2</th>\n",
       "      <td>1.0</td>\n",
       "      <td>1.0</td>\n",
       "      <td>1.0</td>\n",
       "      <td>1700.0</td>\n",
       "      <td>792.0</td>\n",
       "      <td>NaN</td>\n",
       "      <td>NaN</td>\n",
       "      <td>SUMMARY</td>\n",
       "      <td>Count</td>\n",
       "      <td>Sum</td>\n",
       "      <td>Average</td>\n",
       "      <td>Variance</td>\n",
       "      <td>NaN</td>\n",
       "      <td>NaN</td>\n",
       "    </tr>\n",
       "    <tr>\n",
       "      <th>3</th>\n",
       "      <td>1.0</td>\n",
       "      <td>1.0</td>\n",
       "      <td>2.0</td>\n",
       "      <td>1500.0</td>\n",
       "      <td>907.0</td>\n",
       "      <td>NaN</td>\n",
       "      <td>NaN</td>\n",
       "      <td>1</td>\n",
       "      <td>4</td>\n",
       "      <td>2315</td>\n",
       "      <td>578.75</td>\n",
       "      <td>523721.583333</td>\n",
       "      <td>NaN</td>\n",
       "      <td>NaN</td>\n",
       "    </tr>\n",
       "    <tr>\n",
       "      <th>4</th>\n",
       "      <td>1.0</td>\n",
       "      <td>1.0</td>\n",
       "      <td>2.0</td>\n",
       "      <td>1600.0</td>\n",
       "      <td>792.0</td>\n",
       "      <td>NaN</td>\n",
       "      <td>NaN</td>\n",
       "      <td>1</td>\n",
       "      <td>4</td>\n",
       "      <td>2394</td>\n",
       "      <td>598.5</td>\n",
       "      <td>584819</td>\n",
       "      <td>NaN</td>\n",
       "      <td>NaN</td>\n",
       "    </tr>\n",
       "  </tbody>\n",
       "</table>\n",
       "</div>"
      ],
      "text/plain": [
       "   Dentist  Method  Alloy    Temp  Response  Unnamed: 5  Unnamed: 6  \\\n",
       "0      1.0     1.0    1.0  1500.0     813.0         NaN         NaN   \n",
       "1      1.0     1.0    1.0  1600.0     792.0         NaN         NaN   \n",
       "2      1.0     1.0    1.0  1700.0     792.0         NaN         NaN   \n",
       "3      1.0     1.0    2.0  1500.0     907.0         NaN         NaN   \n",
       "4      1.0     1.0    2.0  1600.0     792.0         NaN         NaN   \n",
       "\n",
       "                              Unnamed: 7 Unnamed: 8 Unnamed: 9 Unnamed: 10  \\\n",
       "0  Anova: Two-Factor Without Replication        NaN        NaN         NaN   \n",
       "1                                    NaN        NaN        NaN         NaN   \n",
       "2                                SUMMARY      Count        Sum     Average   \n",
       "3                                      1          4       2315      578.75   \n",
       "4                                      1          4       2394       598.5   \n",
       "\n",
       "     Unnamed: 11 Unnamed: 12 Unnamed: 13  \n",
       "0            NaN         NaN         NaN  \n",
       "1            NaN         NaN         NaN  \n",
       "2       Variance         NaN         NaN  \n",
       "3  523721.583333         NaN         NaN  \n",
       "4         584819         NaN         NaN  "
      ]
     },
     "execution_count": 32,
     "metadata": {},
     "output_type": "execute_result"
    }
   ],
   "source": [
    "#read the data file\n",
    "df=pd.read_excel(\"Dental+Hardness+data.xlsx\")\n",
    "df.head()"
   ]
  },
  {
   "cell_type": "markdown",
   "id": "2b1cb8c0",
   "metadata": {},
   "source": [
    "this data set have many unwanted columns and unwanted rows"
   ]
  },
  {
   "cell_type": "code",
   "execution_count": 33,
   "id": "64a26824",
   "metadata": {},
   "outputs": [
    {
     "name": "stdout",
     "output_type": "stream",
     "text": [
      "<class 'pandas.core.frame.DataFrame'>\n",
      "RangeIndex: 107 entries, 0 to 106\n",
      "Data columns (total 14 columns):\n",
      " #   Column       Non-Null Count  Dtype  \n",
      "---  ------       --------------  -----  \n",
      " 0   Dentist      90 non-null     float64\n",
      " 1   Method       90 non-null     float64\n",
      " 2   Alloy        90 non-null     float64\n",
      " 3   Temp         90 non-null     float64\n",
      " 4   Response     90 non-null     float64\n",
      " 5   Unnamed: 5   0 non-null      float64\n",
      " 6   Unnamed: 6   0 non-null      float64\n",
      " 7   Unnamed: 7   102 non-null    object \n",
      " 8   Unnamed: 8   100 non-null    object \n",
      " 9   Unnamed: 9   100 non-null    object \n",
      " 10  Unnamed: 10  99 non-null     object \n",
      " 11  Unnamed: 11  98 non-null     object \n",
      " 12  Unnamed: 12  3 non-null      object \n",
      " 13  Unnamed: 13  3 non-null      object \n",
      "dtypes: float64(7), object(7)\n",
      "memory usage: 11.8+ KB\n"
     ]
    }
   ],
   "source": [
    "#check the data types of data file\n",
    "df.info()"
   ]
  },
  {
   "cell_type": "code",
   "execution_count": 35,
   "id": "fd782747",
   "metadata": {},
   "outputs": [
    {
     "data": {
      "text/html": [
       "<div>\n",
       "<style scoped>\n",
       "    .dataframe tbody tr th:only-of-type {\n",
       "        vertical-align: middle;\n",
       "    }\n",
       "\n",
       "    .dataframe tbody tr th {\n",
       "        vertical-align: top;\n",
       "    }\n",
       "\n",
       "    .dataframe thead th {\n",
       "        text-align: right;\n",
       "    }\n",
       "</style>\n",
       "<table border=\"1\" class=\"dataframe\">\n",
       "  <thead>\n",
       "    <tr style=\"text-align: right;\">\n",
       "      <th></th>\n",
       "      <th>Dentist</th>\n",
       "      <th>Method</th>\n",
       "      <th>Alloy</th>\n",
       "      <th>Temp</th>\n",
       "      <th>Response</th>\n",
       "    </tr>\n",
       "  </thead>\n",
       "  <tbody>\n",
       "    <tr>\n",
       "      <th>0</th>\n",
       "      <td>1.0</td>\n",
       "      <td>1.0</td>\n",
       "      <td>1.0</td>\n",
       "      <td>1500.0</td>\n",
       "      <td>813.0</td>\n",
       "    </tr>\n",
       "    <tr>\n",
       "      <th>1</th>\n",
       "      <td>1.0</td>\n",
       "      <td>1.0</td>\n",
       "      <td>1.0</td>\n",
       "      <td>1600.0</td>\n",
       "      <td>792.0</td>\n",
       "    </tr>\n",
       "    <tr>\n",
       "      <th>2</th>\n",
       "      <td>1.0</td>\n",
       "      <td>1.0</td>\n",
       "      <td>1.0</td>\n",
       "      <td>1700.0</td>\n",
       "      <td>792.0</td>\n",
       "    </tr>\n",
       "    <tr>\n",
       "      <th>3</th>\n",
       "      <td>1.0</td>\n",
       "      <td>1.0</td>\n",
       "      <td>2.0</td>\n",
       "      <td>1500.0</td>\n",
       "      <td>907.0</td>\n",
       "    </tr>\n",
       "    <tr>\n",
       "      <th>4</th>\n",
       "      <td>1.0</td>\n",
       "      <td>1.0</td>\n",
       "      <td>2.0</td>\n",
       "      <td>1600.0</td>\n",
       "      <td>792.0</td>\n",
       "    </tr>\n",
       "    <tr>\n",
       "      <th>...</th>\n",
       "      <td>...</td>\n",
       "      <td>...</td>\n",
       "      <td>...</td>\n",
       "      <td>...</td>\n",
       "      <td>...</td>\n",
       "    </tr>\n",
       "    <tr>\n",
       "      <th>102</th>\n",
       "      <td>NaN</td>\n",
       "      <td>NaN</td>\n",
       "      <td>NaN</td>\n",
       "      <td>NaN</td>\n",
       "      <td>NaN</td>\n",
       "    </tr>\n",
       "    <tr>\n",
       "      <th>103</th>\n",
       "      <td>NaN</td>\n",
       "      <td>NaN</td>\n",
       "      <td>NaN</td>\n",
       "      <td>NaN</td>\n",
       "      <td>NaN</td>\n",
       "    </tr>\n",
       "    <tr>\n",
       "      <th>104</th>\n",
       "      <td>NaN</td>\n",
       "      <td>NaN</td>\n",
       "      <td>NaN</td>\n",
       "      <td>NaN</td>\n",
       "      <td>NaN</td>\n",
       "    </tr>\n",
       "    <tr>\n",
       "      <th>105</th>\n",
       "      <td>NaN</td>\n",
       "      <td>NaN</td>\n",
       "      <td>NaN</td>\n",
       "      <td>NaN</td>\n",
       "      <td>NaN</td>\n",
       "    </tr>\n",
       "    <tr>\n",
       "      <th>106</th>\n",
       "      <td>NaN</td>\n",
       "      <td>NaN</td>\n",
       "      <td>NaN</td>\n",
       "      <td>NaN</td>\n",
       "      <td>NaN</td>\n",
       "    </tr>\n",
       "  </tbody>\n",
       "</table>\n",
       "<p>107 rows × 5 columns</p>\n",
       "</div>"
      ],
      "text/plain": [
       "     Dentist  Method  Alloy    Temp  Response\n",
       "0        1.0     1.0    1.0  1500.0     813.0\n",
       "1        1.0     1.0    1.0  1600.0     792.0\n",
       "2        1.0     1.0    1.0  1700.0     792.0\n",
       "3        1.0     1.0    2.0  1500.0     907.0\n",
       "4        1.0     1.0    2.0  1600.0     792.0\n",
       "..       ...     ...    ...     ...       ...\n",
       "102      NaN     NaN    NaN     NaN       NaN\n",
       "103      NaN     NaN    NaN     NaN       NaN\n",
       "104      NaN     NaN    NaN     NaN       NaN\n",
       "105      NaN     NaN    NaN     NaN       NaN\n",
       "106      NaN     NaN    NaN     NaN       NaN\n",
       "\n",
       "[107 rows x 5 columns]"
      ]
     },
     "execution_count": 35,
     "metadata": {},
     "output_type": "execute_result"
    }
   ],
   "source": [
    "#drop unwanted columns(5thh columns to 13 th columns)\n",
    "df = df.drop(df.columns[5:13], axis=1)\n",
    "df"
   ]
  },
  {
   "cell_type": "code",
   "execution_count": 36,
   "id": "8a6ecc94",
   "metadata": {},
   "outputs": [
    {
     "data": {
      "text/html": [
       "<div>\n",
       "<style scoped>\n",
       "    .dataframe tbody tr th:only-of-type {\n",
       "        vertical-align: middle;\n",
       "    }\n",
       "\n",
       "    .dataframe tbody tr th {\n",
       "        vertical-align: top;\n",
       "    }\n",
       "\n",
       "    .dataframe thead th {\n",
       "        text-align: right;\n",
       "    }\n",
       "</style>\n",
       "<table border=\"1\" class=\"dataframe\">\n",
       "  <thead>\n",
       "    <tr style=\"text-align: right;\">\n",
       "      <th></th>\n",
       "      <th>Dentist</th>\n",
       "      <th>Method</th>\n",
       "      <th>Alloy</th>\n",
       "      <th>Temp</th>\n",
       "      <th>Response</th>\n",
       "    </tr>\n",
       "  </thead>\n",
       "  <tbody>\n",
       "    <tr>\n",
       "      <th>0</th>\n",
       "      <td>1.0</td>\n",
       "      <td>1.0</td>\n",
       "      <td>1.0</td>\n",
       "      <td>1500.0</td>\n",
       "      <td>813.0</td>\n",
       "    </tr>\n",
       "    <tr>\n",
       "      <th>1</th>\n",
       "      <td>1.0</td>\n",
       "      <td>1.0</td>\n",
       "      <td>1.0</td>\n",
       "      <td>1600.0</td>\n",
       "      <td>792.0</td>\n",
       "    </tr>\n",
       "    <tr>\n",
       "      <th>2</th>\n",
       "      <td>1.0</td>\n",
       "      <td>1.0</td>\n",
       "      <td>1.0</td>\n",
       "      <td>1700.0</td>\n",
       "      <td>792.0</td>\n",
       "    </tr>\n",
       "    <tr>\n",
       "      <th>3</th>\n",
       "      <td>1.0</td>\n",
       "      <td>1.0</td>\n",
       "      <td>2.0</td>\n",
       "      <td>1500.0</td>\n",
       "      <td>907.0</td>\n",
       "    </tr>\n",
       "    <tr>\n",
       "      <th>4</th>\n",
       "      <td>1.0</td>\n",
       "      <td>1.0</td>\n",
       "      <td>2.0</td>\n",
       "      <td>1600.0</td>\n",
       "      <td>792.0</td>\n",
       "    </tr>\n",
       "    <tr>\n",
       "      <th>...</th>\n",
       "      <td>...</td>\n",
       "      <td>...</td>\n",
       "      <td>...</td>\n",
       "      <td>...</td>\n",
       "      <td>...</td>\n",
       "    </tr>\n",
       "    <tr>\n",
       "      <th>85</th>\n",
       "      <td>5.0</td>\n",
       "      <td>3.0</td>\n",
       "      <td>1.0</td>\n",
       "      <td>1600.0</td>\n",
       "      <td>483.0</td>\n",
       "    </tr>\n",
       "    <tr>\n",
       "      <th>86</th>\n",
       "      <td>5.0</td>\n",
       "      <td>3.0</td>\n",
       "      <td>1.0</td>\n",
       "      <td>1700.0</td>\n",
       "      <td>405.0</td>\n",
       "    </tr>\n",
       "    <tr>\n",
       "      <th>87</th>\n",
       "      <td>5.0</td>\n",
       "      <td>3.0</td>\n",
       "      <td>2.0</td>\n",
       "      <td>1500.0</td>\n",
       "      <td>536.0</td>\n",
       "    </tr>\n",
       "    <tr>\n",
       "      <th>88</th>\n",
       "      <td>5.0</td>\n",
       "      <td>3.0</td>\n",
       "      <td>2.0</td>\n",
       "      <td>1600.0</td>\n",
       "      <td>405.0</td>\n",
       "    </tr>\n",
       "    <tr>\n",
       "      <th>89</th>\n",
       "      <td>5.0</td>\n",
       "      <td>3.0</td>\n",
       "      <td>2.0</td>\n",
       "      <td>1700.0</td>\n",
       "      <td>312.0</td>\n",
       "    </tr>\n",
       "  </tbody>\n",
       "</table>\n",
       "<p>90 rows × 5 columns</p>\n",
       "</div>"
      ],
      "text/plain": [
       "    Dentist  Method  Alloy    Temp  Response\n",
       "0       1.0     1.0    1.0  1500.0     813.0\n",
       "1       1.0     1.0    1.0  1600.0     792.0\n",
       "2       1.0     1.0    1.0  1700.0     792.0\n",
       "3       1.0     1.0    2.0  1500.0     907.0\n",
       "4       1.0     1.0    2.0  1600.0     792.0\n",
       "..      ...     ...    ...     ...       ...\n",
       "85      5.0     3.0    1.0  1600.0     483.0\n",
       "86      5.0     3.0    1.0  1700.0     405.0\n",
       "87      5.0     3.0    2.0  1500.0     536.0\n",
       "88      5.0     3.0    2.0  1600.0     405.0\n",
       "89      5.0     3.0    2.0  1700.0     312.0\n",
       "\n",
       "[90 rows x 5 columns]"
      ]
     },
     "execution_count": 36,
     "metadata": {},
     "output_type": "execute_result"
    }
   ],
   "source": [
    "#drop the null rows\n",
    "df.dropna(axis=0,inplace=True)\n",
    "df"
   ]
  },
  {
   "cell_type": "markdown",
   "id": "1c63db75",
   "metadata": {},
   "source": [
    "#### ANSWERS"
   ]
  },
  {
   "cell_type": "markdown",
   "id": "cd28d074",
   "metadata": {},
   "source": [
    "#### 4.1 How does the hardness of implants vary depending on dentists?\n",
    "\"- State the null and alternate hypotheses - Check the assumptions of the hypothesis test. - Conduct the hypothesis test and compute the p-value - Write down conclusions from the test results - In case the implant hardness differs, identify for which pairs it differs Note: 1. Both types of alloys cannot be considered together. You must conduct the analysis separately for the two types of alloys. 2. Even if the assumptions of the test fail, kindly proceed with the test.\""
   ]
  },
  {
   "cell_type": "code",
   "execution_count": 81,
   "id": "96792e73",
   "metadata": {},
   "outputs": [],
   "source": [
    "#ANSWER"
   ]
  },
  {
   "cell_type": "markdown",
   "id": "ffd70542",
   "metadata": {},
   "source": [
    "#### )-State the null and alternate hypotheses "
   ]
  },
  {
   "cell_type": "markdown",
   "id": "2abed3c3",
   "metadata": {},
   "source": [
    "###### Hypothesis test formulation for Alloy 1\n",
    "\n",
    "H01: The mean implant hardness is the same across different dentists with type 1 alloy.\n",
    "\n",
    "HA1: Mean implant hardness is different for at least one pair of the dentists with type 1 alloy."
   ]
  },
  {
   "cell_type": "markdown",
   "id": "1c9d37a7",
   "metadata": {},
   "source": [
    "###### Hypothesis test formulation for Alloy 2\n",
    "H01: The mean implant hardness is the same across different dentists with type 2 alloy.\n",
    "\n",
    "HA1: Mean implant hardness is different for at least one pair of the dentists with type 2 alloy.\n",
    "\n"
   ]
  },
  {
   "cell_type": "markdown",
   "id": "16f04f64",
   "metadata": {},
   "source": [
    "#### )Check the assumptions of the hypothesis test."
   ]
  },
  {
   "cell_type": "markdown",
   "id": "5783f625",
   "metadata": {},
   "source": [
    "In a one-way ANOVA test, we compare the means from several populations to test if there is any significance difference between them. The results from an ANOVA test are most reliable when the assumptions of normality and equality of variances are satisfied.\n",
    "\n",
    "For testing of normality, Shapiro-Wilk’s test is applied to the response variable.\n",
    "\n",
    "For equality of variance, Levene test is applied to the response variable.\n",
    "\n",
    "###### Test of Normality (Shapiro) for Type 1 Alloy for Dentist variable\n",
    "\n",
    "H0 1: the implant hardness of  \"Dentist\" variable within the \"Type 1 Alloy\" follows a normal distribution\n",
    "\n",
    "HA 1:the implant hardness of \"Dentist\" variable within the \"Type 1 Alloy\" does not follow a normal distribution."
   ]
  },
  {
   "cell_type": "code",
   "execution_count": 68,
   "id": "df503b63",
   "metadata": {
    "scrolled": true
   },
   "outputs": [
    {
     "name": "stdout",
     "output_type": "stream",
     "text": [
      "Shapiro-Wilk Test static value: 0.9113541841506958 p-value: 0.3254688084125519\n",
      "Shapiro-Wilk Test static value: 0.9642462134361267 p-value: 0.8415456414222717\n",
      "Shapiro-Wilk Test static value: 0.8721169233322144 p-value: 0.12953516840934753\n",
      "Shapiro-Wilk Test static value: 0.8368974328041077 p-value: 0.05333680287003517\n",
      "Shapiro-Wilk Test static value: 0.8534296751022339 p-value: 0.08127813786268234\n"
     ]
    }
   ],
   "source": [
    "#import shapiro function\n",
    "from scipy.stats import shapiro\n",
    "#apply shapiro test for hardness of different Dentist within type 1 Alloy  \n",
    "for i in range(1,6):\n",
    "    dentist_data_type1 =dentist_data_type1 = df[(df['Alloy'] == 1) & (df['Dentist'] == i)]\n",
    "    t, p = shapiro(dentist_data_type1[\"Response\"])\n",
    "    print(\"Shapiro-Wilk Test static value:\",t,\"p-value:\", p)\n",
    "    i=i+1"
   ]
  },
  {
   "cell_type": "markdown",
   "id": "de38006a",
   "metadata": {},
   "source": [
    "none of the cases, p-value is smaller than level of significance(0.05). Hence normality assumption is satisfied,it means the implant hardness of  \"Dentist\" variable within the \"Type 1 Alloy\" follows a normal distribution"
   ]
  },
  {
   "cell_type": "markdown",
   "id": "b6d5edef",
   "metadata": {},
   "source": [
    "#### Test of Normality (Shapiro) for Type 2 Alloy for Dentist variable"
   ]
  },
  {
   "cell_type": "markdown",
   "id": "ff5a5e32",
   "metadata": {},
   "source": [
    "H0 2: the implant hardness of \"Dentist\" variable within the \"Type 2 Alloy\" follows a normal distribution\n",
    "\n",
    "HA 2:the implant hardness of \"Dentist\" variable within the \"Type 2 Alloy\" does not follow a normal distribution."
   ]
  },
  {
   "cell_type": "code",
   "execution_count": 40,
   "id": "a6d43cc1",
   "metadata": {},
   "outputs": [
    {
     "name": "stdout",
     "output_type": "stream",
     "text": [
      "Shapiro-Wilk Test static value: 0.9039731621742249 pvalue: 0.27593979239463806\n",
      "Shapiro-Wilk Test static value: 0.9392004013061523 pvalue: 0.5735077857971191\n",
      "Shapiro-Wilk Test static value: 0.9340971112251282 pvalue: 0.5213080644607544\n",
      "Shapiro-Wilk Test static value: 0.7613219022750854 pvalue: 0.007332688197493553\n",
      "Shapiro-Wilk Test static value: 0.9131584167480469 pvalue: 0.33861100673675537\n"
     ]
    }
   ],
   "source": [
    "from scipy.stats import shapiro\n",
    "#apply shapiro test for hardness of different Dentist within type 2 Alloy  \n",
    "for i in range(1,6):\n",
    "    dentist_data_type1 =dentist_data_type1 = df[(df['Alloy'] == 2) & (df['Dentist'] == i)]\n",
    "    t, p = shapiro(dentist_data_type1[\"Response\"])\n",
    "    print(\"Shapiro-Wilk Test static value:\",t,\"pvalue:\",p)\n",
    "    i=i+1"
   ]
  },
  {
   "cell_type": "markdown",
   "id": "cc30cfaf",
   "metadata": {},
   "source": [
    "For one dentist, p-value is smaller than level of significance(0.05),other p values greater than 0.05,which means the implant hardness of \"Dentist\" variable within the \"Type 2 Alloy\" follows a normal distribution,except one case dentist.We will proceed with ANOVA."
   ]
  },
  {
   "cell_type": "markdown",
   "id": "efa2d482",
   "metadata": {},
   "source": [
    "#### Levene test of equal variance for Type 1 and Type 2 Alloy for Dentist variable"
   ]
  },
  {
   "cell_type": "markdown",
   "id": "63207206",
   "metadata": {},
   "source": [
    "H0: variances  for Type 1 and Type 2 Alloy with Dentist  are equal\n",
    "\n",
    "Ha: At least one variance is different from the rest"
   ]
  },
  {
   "cell_type": "code",
   "execution_count": 41,
   "id": "de780540",
   "metadata": {},
   "outputs": [
    {
     "name": "stdout",
     "output_type": "stream",
     "text": [
      "levene test static value: 1.3847146992797106 ,p value: 0.2565537418543795\n"
     ]
    }
   ],
   "source": [
    "#create dataframe with alloy type 1 metal implants\n",
    "m=df[df.Alloy==1]\n",
    "# apply levene test for type 1 Alloy with Dentist variable\n",
    "t, p= stats.levene(m[m.Dentist==1]['Response'],\n",
    "                                  m[m.Dentist==2]['Response'],\n",
    "                                  m[m.Dentist==3]['Response'],\n",
    "                                  m[m.Dentist==4]['Response'],\n",
    "                                  m[m.Dentist==5]['Response'])\n",
    "print('levene test static value:',t,\",p value:\",p)"
   ]
  },
  {
   "cell_type": "code",
   "execution_count": 42,
   "id": "b4ace325",
   "metadata": {},
   "outputs": [
    {
     "name": "stdout",
     "output_type": "stream",
     "text": [
      "levene test static value: 1.4456166464566966 ,p value: 0.23686777576324952\n"
     ]
    }
   ],
   "source": [
    "#create dataframe with alloy type 2 metal implants\n",
    "s=df[df.Alloy==2]\n",
    "## apply levene test for type 2 Alloy with Dentist variable\n",
    "t, p = stats.levene(s[s.Dentist==1]['Response'],\n",
    "                    s[s.Dentist==2]['Response'],\n",
    "                    s[s.Dentist==3]['Response'],\n",
    "                    s[s.Dentist==4]['Response'],\n",
    "                    s[s.Dentist==5]['Response'])\n",
    "print('levene test static value:',t,\",p value:\",p)"
   ]
  },
  {
   "cell_type": "markdown",
   "id": "4d42d58f",
   "metadata": {},
   "source": [
    "Form above result for both alloy 1 and alloy 2 p value is greater than level of significance(0.05), we can conclude ,fail the reject the null hypothesis\n",
    "that the variances of alloy 1 and alloy 2   with dentist are equal."
   ]
  },
  {
   "cell_type": "markdown",
   "id": "d408cb5f",
   "metadata": {},
   "source": [
    "##### We will proceed with ANOVA."
   ]
  },
  {
   "cell_type": "markdown",
   "id": "c6cc09b6",
   "metadata": {},
   "source": [
    "Since the level of significance is 5%, we can check from the below ANOVA output arrived at by \n",
    "using the anova_lm function from scipy. stats."
   ]
  },
  {
   "cell_type": "markdown",
   "id": "28404cc7",
   "metadata": {},
   "source": [
    "#### )-Conduct the hypothesis test and compute the p-value"
   ]
  },
  {
   "cell_type": "markdown",
   "id": "3137b5f6",
   "metadata": {},
   "source": [
    "###### Hypothesis test formulation for Alloy 1\n",
    "H01: The mean implant hardness is the same across different dentists with type 1 alloy.\n",
    "\n",
    "HA1: Mean implant hardness is different for at least one pair of the dentists with type 1 alloy."
   ]
  },
  {
   "cell_type": "code",
   "execution_count": 43,
   "id": "613b2734",
   "metadata": {},
   "outputs": [],
   "source": [
    "# Import the OLS (Ordinary Least Squares) formula interface\n",
    "from statsmodels.formula.api import ols \n",
    "# Import the ANOVA (Analysis of Variance) function,co_variance function  used primarily for calculating covariance matrices in the context of ANOVA (Analysis of Variance) and related statistical tests. \n",
    "from statsmodels.stats.anova import _get_covariance,anova_lm \n",
    "#create a data frame with alloy 1 type  metal implants\n",
    "s=df[df.Alloy==1]"
   ]
  },
  {
   "cell_type": "code",
   "execution_count": 44,
   "id": "88e28926",
   "metadata": {},
   "outputs": [
    {
     "name": "stdout",
     "output_type": "stream",
     "text": [
      "              df         sum_sq       mean_sq         F    PR(>F)\n",
      "C(Dentist)   4.0  106683.688889  26670.922222  1.977112  0.116567\n",
      "Residual    40.0  539593.555556  13489.838889       NaN       NaN\n"
     ]
    }
   ],
   "source": [
    "#Define the formula with  function Dentist\n",
    "formula = 'Response~C(Dentist)'\n",
    "# Create the model using the formula\n",
    "model = ols(formula, s).fit()\n",
    "# Compute the ANOVA table\n",
    "aov_table = anova_lm(model)\n",
    "# Print the ANOVA table\n",
    "print(aov_table)"
   ]
  },
  {
   "cell_type": "markdown",
   "id": "ff947939",
   "metadata": {},
   "source": [
    "###### Since p-value is greater than level of significance(0.05), we fail to reject the null hypothesis of equality,which is  The mean implant hardness is the same across different dentists with type 1 alloy.\n",
    "\n"
   ]
  },
  {
   "cell_type": "markdown",
   "id": "4d19a401",
   "metadata": {},
   "source": [
    "##### Hypothesis test formulation for Alloy 2\n",
    "H01: The mean implant hardness is the same across different dentists with type 2 alloy.\n",
    "\n",
    "HA1: Mean implant hardness is different for at least one pair of the dentists with type 2 alloy."
   ]
  },
  {
   "cell_type": "code",
   "execution_count": 45,
   "id": "76fc962c",
   "metadata": {},
   "outputs": [
    {
     "name": "stdout",
     "output_type": "stream",
     "text": [
      "              df        sum_sq       mean_sq         F    PR(>F)\n",
      "C(Dentist)   4.0  5.679791e+04  14199.477778  0.524835  0.718031\n",
      "Residual    40.0  1.082205e+06  27055.122222       NaN       NaN\n"
     ]
    }
   ],
   "source": [
    "#create a data frame with alloy 2 type  metal implants\n",
    "w=df[df.Alloy==2]\n",
    "#Define the formula with  function Dentist\n",
    "formula = 'Response~C(Dentist)'\n",
    "# Create the model using the formula\n",
    "model = ols(formula, w).fit()\n",
    "# Compute the ANOVA table\n",
    "aov_table = anova_lm(model)\n",
    "print(aov_table)"
   ]
  },
  {
   "cell_type": "markdown",
   "id": "04ddc5ea",
   "metadata": {},
   "source": [
    "###### the p-value is greater than level of significance(0.05) , we fail to reject the null hypothesis of equality. which is  The mean implant hardness is the same across different dentists with type 2 alloy.\n",
    "As Null Hypothesis is not rejected, \n",
    "###### so no need to do post hoc test Tukey HSD"
   ]
  },
  {
   "cell_type": "markdown",
   "id": "6ab95dae",
   "metadata": {},
   "source": [
    "### 4.2 How does the hardness of implants vary depending on methods?\n",
    "\"- State the null and alternate hypotheses - Check the assumptions of the hypothesis test. - Conduct the hypothesis test and compute the p-value - Write down conclusions from the test results - In case the implant hardness differs, identify for which pairs it differs Note: 1. Both types of alloys cannot be considered together. You must conduct the analysis separately for the two types of alloys. 2. Even if the assumptions of the test fail, kindly proceed with the test.\"\n"
   ]
  },
  {
   "cell_type": "code",
   "execution_count": 46,
   "id": "45971ee3",
   "metadata": {},
   "outputs": [],
   "source": [
    "#ANSWERS"
   ]
  },
  {
   "cell_type": "markdown",
   "id": "519de69c",
   "metadata": {},
   "source": [
    "#### )-State the null and alternate hypotheses"
   ]
  },
  {
   "cell_type": "code",
   "execution_count": 47,
   "id": "c334fdc7",
   "metadata": {},
   "outputs": [],
   "source": [
    "#answer-"
   ]
  },
  {
   "cell_type": "markdown",
   "id": "e2280033",
   "metadata": {},
   "source": [
    "###### Hypothesis test formulation for Alloy 1\n",
    "H01: The mean implant hardness is the same for all methods with type 1 alloy.\n",
    "\n",
    "HA1: Mean implant hardness is different for at least one pair of the method with type 1 alloy.\n"
   ]
  },
  {
   "cell_type": "markdown",
   "id": "b639d8bb",
   "metadata": {},
   "source": [
    "##### Hypothesis test formulation for Alloy 2\n",
    "\n",
    "H01: The mean implant hardness is the same for all methods with type 2 alloy.\n",
    "\n",
    "HA1: Mean implant hardness is different for at least one pair of the method with type 2 alloy."
   ]
  },
  {
   "cell_type": "markdown",
   "id": "88d7afcc",
   "metadata": {},
   "source": [
    "#### 4-2-b)-Check the assumptions of the hypothesis test."
   ]
  },
  {
   "cell_type": "markdown",
   "id": "535319e5",
   "metadata": {},
   "source": [
    "The results from an ANOVA test are most reliable when the assumptions of normality and equality of variances are satisfied.\n",
    "\n",
    "For testing of normality, Shapiro-Wilk’s test is applied to the response variable.\n",
    "\n",
    "For equality of variance, Levene test is applied to the response variable.\n",
    "\n",
    "##### Test of Normality (Shapiro) for Type 1 Alloy for Method variable\n",
    "\n",
    "H0 1: the implant hardness of \"Method\" variable within the \"Type 1 Alloy\" follows a normal distribution\n",
    "\n",
    "HA 1:the implant hardness of \"Method\" variable within the \"Type 1 Alloy\" does not follow a normal distribution."
   ]
  },
  {
   "cell_type": "code",
   "execution_count": 48,
   "id": "2c5aa677",
   "metadata": {},
   "outputs": [
    {
     "name": "stdout",
     "output_type": "stream",
     "text": [
      "Shapiro-Wilk Test static value: 0.9183822870254517 p-value: 0.18198540806770325\n",
      "Shapiro-Wilk Test static value: 0.9732585549354553 p-value: 0.9030335545539856\n",
      "Shapiro-Wilk Test static value: 0.9114548563957214 p-value: 0.14254699647426605\n"
     ]
    }
   ],
   "source": [
    "#apply shapiro test for hardness of different Method within type 1 Alloy using for loop\n",
    "for i in range(1,4): \n",
    "    dentist_data_type1 =dentist_data_type1 = df[(df['Alloy'] == 1) & (df['Method'] == i)]\n",
    "    t, p = shapiro(dentist_data_type1[\"Response\"])\n",
    "    print(\"Shapiro-Wilk Test static value:\",t,\"p-value:\", p)\n",
    "    i=i+1"
   ]
  },
  {
   "cell_type": "markdown",
   "id": "dc29b9ba",
   "metadata": {},
   "source": [
    "In none of the cases, p-value is smaller than level of significance(0.05). Hence normality assumption is satisfied"
   ]
  },
  {
   "cell_type": "markdown",
   "id": "e65d48e7",
   "metadata": {},
   "source": [
    "##### Test of Normality (Shapiro) for Type 2 Alloy for Method variable\n",
    "H0 2: the implant hardness of \"Method\" variable within the \"Type 2 Alloy\" follows a normal distribution\n",
    "\n",
    "HA 2:the implant hardness of \"Method\" variable within the \"Type 2 Alloy\" does not follow a normal distribution."
   ]
  },
  {
   "cell_type": "code",
   "execution_count": 49,
   "id": "0e06db77",
   "metadata": {},
   "outputs": [
    {
     "name": "stdout",
     "output_type": "stream",
     "text": [
      "Shapiro-Wilk Test static value: 0.963810384273529 p-value: 0.7582374811172485\n",
      "Shapiro-Wilk Test static value: 0.755793035030365 p-value: 0.001051110913977027\n",
      "Shapiro-Wilk Test static value: 0.9021322131156921 p-value: 0.1025901660323143\n"
     ]
    }
   ],
   "source": [
    "#apply shapiro test for hardness of different Method within type 2 Alloy using for loop\n",
    "for i in range(1,4):\n",
    "    dentist_data_type1 =dentist_data_type1 = df[(df['Alloy'] == 2) & (df['Method'] == i)]\n",
    "    t, p = shapiro(dentist_data_type1[\"Response\"])\n",
    "    print(\"Shapiro-Wilk Test static value:\",t,\"p-value:\", p)\n",
    "    i=i+1"
   ]
  },
  {
   "cell_type": "markdown",
   "id": "611d5415",
   "metadata": {},
   "source": [
    "For one method, p-value is smaller than level of significance(0.05).others are greater than level of significance(0.05). We will proceed with ANOVA."
   ]
  },
  {
   "cell_type": "markdown",
   "id": "0f11f12b",
   "metadata": {},
   "source": [
    "##### Levene test of equal variance for Type 1 and Type 2 Alloy for Method variable\n",
    "H0: variances for Type 1 and Type 2 Alloy for Method variables are equal\n",
    "\n",
    "Ha: At least one variance is different from the rest"
   ]
  },
  {
   "cell_type": "code",
   "execution_count": 50,
   "id": "a81c3185",
   "metadata": {},
   "outputs": [
    {
     "name": "stdout",
     "output_type": "stream",
     "text": [
      "levene test static value: 6.52140454403598 ,p value: 0.0034160381460233975\n"
     ]
    }
   ],
   "source": [
    "#create data frame with alloy type 1 metal implants\n",
    "m=df[df.Alloy==1]\n",
    "# apply levene test for type 1 Alloy with Method variable\n",
    "t, p= stats.levene(m[m.Method==1]['Response'],\n",
    "                                  m[m.Method==2]['Response'],\n",
    "                                  m[m.Method==3]['Response'])\n",
    "print('levene test static value:',t,\",p value:\",p)"
   ]
  },
  {
   "cell_type": "code",
   "execution_count": 52,
   "id": "598cbdb4",
   "metadata": {},
   "outputs": [
    {
     "name": "stdout",
     "output_type": "stream",
     "text": [
      "The levene test static value: 3.349707184158617 ,p value: 0.04469269939158668\n"
     ]
    }
   ],
   "source": [
    "#create data frame with alloy 2 type metal implant\n",
    "m=df[df.Alloy==2]\n",
    "# apply levene test for type 2 Alloy with Method variable\n",
    "t, p= stats.levene(m[m.Method==1]['Response'],\n",
    "                                  m[m.Method==2]['Response'],\n",
    "                                  m[m.Method==3]['Response'])\n",
    "print('The levene test static value:',t,\",p value:\",p)"
   ]
  },
  {
   "cell_type": "markdown",
   "id": "7331f2e3",
   "metadata": {},
   "source": [
    "Form above result for both alloy 1 and alloy 2 p value is less than level of significance(0.05), we can conclude that \n",
    "the variances are not equal"
   ]
  },
  {
   "cell_type": "markdown",
   "id": "06b94779",
   "metadata": {},
   "source": [
    "##### )-Conduct the hypothesis test and compute the p-value\n",
    "###### Hypothesis test formulation for Alloy 1\n",
    "\n",
    "H01: The mean implant hardness is the same across different method with type 1 alloy.\n",
    "\n",
    "HA1: Mean implant hardness is different for at least one pair of the method with type 1 alloy.\n"
   ]
  },
  {
   "cell_type": "code",
   "execution_count": 53,
   "id": "2e59e23c",
   "metadata": {},
   "outputs": [
    {
     "name": "stdout",
     "output_type": "stream",
     "text": [
      "             df         sum_sq       mean_sq         F    PR(>F)\n",
      "C(Method)   2.0  148472.177778  74236.088889  6.263327  0.004163\n",
      "Residual   42.0  497805.066667  11852.501587       NaN       NaN\n"
     ]
    }
   ],
   "source": [
    "#create data frame with alloy 1 type \n",
    "s=df[df.Alloy==1]\n",
    "#create anova table with Method variable\n",
    "formula = 'Response~C(Method)'\n",
    "model = ols(formula, s).fit()\n",
    "aov_table = anova_lm(model)\n",
    "print(aov_table)"
   ]
  },
  {
   "cell_type": "markdown",
   "id": "a78a7d2a",
   "metadata": {},
   "source": [
    "Since p-value is smaller than level of significance(0.05), null hypothesis is rejected. Mean implant hardness is different for at least one pair of the method with type 1 alloy."
   ]
  },
  {
   "cell_type": "markdown",
   "id": "f8390d3b",
   "metadata": {},
   "source": [
    "##### Hypothesis test formulation for Alloy 2\n",
    "H01: The mean implant hardness is the same across different Method with type 2 alloy.\n",
    "\n",
    "HA1: Mean implant hardness is different for at least one pair of the Method with type 2 alloy."
   ]
  },
  {
   "cell_type": "code",
   "execution_count": 54,
   "id": "c121e8bf",
   "metadata": {},
   "outputs": [
    {
     "name": "stdout",
     "output_type": "stream",
     "text": [
      "             df    sum_sq        mean_sq        F    PR(>F)\n",
      "C(Method)   2.0  499640.4  249820.200000  16.4108  0.000005\n",
      "Residual   42.0  639362.4   15222.914286      NaN       NaN\n"
     ]
    }
   ],
   "source": [
    "#create data frame with alloy 2 type \n",
    "b=df[df.Alloy==2]\n",
    "#create anova table with Method variable for alloy 2\n",
    "formula = 'Response~C(Method)'\n",
    "model = ols(formula, b).fit()\n",
    "aov_table = anova_lm(model)\n",
    "print(aov_table)"
   ]
  },
  {
   "cell_type": "markdown",
   "id": "aaef1b35",
   "metadata": {},
   "source": [
    "####  )-Write down conclusions from the test results"
   ]
  },
  {
   "cell_type": "markdown",
   "id": "a837c559",
   "metadata": {},
   "source": [
    "#### Insights\n",
    "As the p-value is much less than the significance level, we can reject the null hypothesis. Hence, we do have enough statistical significance to conclude that at least one implants hardness is different from the rest at 5% significance level for alloy 2 type."
   ]
  },
  {
   "cell_type": "markdown",
   "id": "2d34a6c2",
   "metadata": {},
   "source": [
    "However, we don't know which mean is different from the rest or whether all pairs of means are different in both alloy  type. Multiple comparison tests are used to test the differences between all pairs of means."
   ]
  },
  {
   "cell_type": "markdown",
   "id": "69c1841e",
   "metadata": {},
   "source": [
    "#### )-In case the implant hardness differs, identify for which pairs it differs Note"
   ]
  },
  {
   "cell_type": "markdown",
   "id": "9ddafa8f",
   "metadata": {},
   "source": [
    "#### Multiple Comparison test (Tukey HSD)\n",
    "In order to identify for which Method type mean implants hardness is different from other groups, \n",
    "the null hypothesis is\n",
    "\n",
    "H0:μ1=μ2 and μ1=μ3 and μ2=μ3\n",
    "\n",
    "against the alternative hypothesis\n",
    "\n",
    "Ha:μ1≠μ2 or μ1≠μ3 or μ2≠μ3\n",
    "\n",
    "The pairwise_tukeyhsd() function of Statsmodels will be used to compute the test statistic and p-value."
   ]
  },
  {
   "cell_type": "code",
   "execution_count": 55,
   "id": "b7a1a611",
   "metadata": {},
   "outputs": [
    {
     "name": "stdout",
     "output_type": "stream",
     "text": [
      "   Multiple Comparison of Means - Tukey HSD, FWER=0.05   \n",
      "=========================================================\n",
      "group1 group2  meandiff p-adj    lower     upper   reject\n",
      "---------------------------------------------------------\n",
      "   1.0    2.0   10.4333 0.9415  -64.7584   85.6251  False\n",
      "   1.0    3.0    -166.8    0.0 -241.9917  -91.6083   True\n",
      "   2.0    3.0 -177.2333    0.0 -252.4251 -102.0416   True\n",
      "---------------------------------------------------------\n"
     ]
    }
   ],
   "source": [
    "#import the required function\n",
    "from statsmodels.stats.multicomp import pairwise_tukeyhsd\n",
    "\n",
    "# perform multiple pairwise comparison (Tukey HSD)\n",
    "m_comp = pairwise_tukeyhsd(endog = df['Response'], groups = df['Method'], alpha = 0.05)\n",
    "print(m_comp)"
   ]
  },
  {
   "cell_type": "markdown",
   "id": "3a4057e4",
   "metadata": {},
   "source": [
    "### Insights\n",
    "#As the p-values (refer to the p-adj column) for comparing the mean implants hardness for method  pair 1-3 and 2-3 is less than the significance level, the null hypothesis of equality of all population means can be rejected.\n",
    "\n",
    "#Thus, we can say that the mean implants hardness for metod 1 and 2 is similar but hardness for method type 3 is significantly different from 1 and 2 Method Type."
   ]
  },
  {
   "cell_type": "markdown",
   "id": "a63a1965",
   "metadata": {},
   "source": [
    "### 4.3 What is the interaction effect between the dentist and method on the hardness of dental implants for each type of alloy?\n",
    "\"- Create Interaction Plot - Inferences from the plot Note: Both types of alloys cannot be considered together. You must conduct the analysis separately for the two types of alloys.\""
   ]
  },
  {
   "cell_type": "markdown",
   "id": "e8fe7214",
   "metadata": {},
   "source": [
    "#### )-Create Interaction Plot"
   ]
  },
  {
   "cell_type": "markdown",
   "id": "68026142",
   "metadata": {},
   "source": [
    "interaction plot for Alloy-1"
   ]
  },
  {
   "cell_type": "code",
   "execution_count": 56,
   "id": "d7566ddd",
   "metadata": {},
   "outputs": [
    {
     "data": {
      "text/plain": [
       "<Figure size 400x200 with 0 Axes>"
      ]
     },
     "metadata": {},
     "output_type": "display_data"
    },
    {
     "data": {
      "image/png": "[encoded data removed]",
      "text/plain": [
       "<Figure size 640x480 with 1 Axes>"
      ]
     },
     "metadata": {},
     "output_type": "display_data"
    }
   ],
   "source": [
    "#import the interaction plot function\n",
    "from statsmodels.graphics.factorplots import interaction_plot\n",
    "#create dataframe with alloy type 1.\n",
    "s=df[df.Alloy==1]\n",
    "plt.figure(figsize=(4,2))\n",
    "#plot interaction plot for alloy 1\n",
    "interaction_plot(np.array(s['Dentist']),np.array(s['Method']),np.array(s['Response']),markers=['D','^','o'])\n",
    "plt.title(\" Interaction Plot Alloy 1\");"
   ]
  },
  {
   "cell_type": "markdown",
   "id": "bf76b596",
   "metadata": {},
   "source": [
    "We can clearly say that mean hardness of dental implant is not same when different Dentists are using different Methods in Alloy 1. This interaction is very significant here."
   ]
  },
  {
   "cell_type": "markdown",
   "id": "084d88b6",
   "metadata": {},
   "source": [
    "#Interaction plot for Alloy-2"
   ]
  },
  {
   "cell_type": "code",
   "execution_count": 57,
   "id": "03dc49a6",
   "metadata": {},
   "outputs": [
    {
     "data": {
      "text/plain": [
       "<Figure size 400x200 with 0 Axes>"
      ]
     },
     "metadata": {},
     "output_type": "display_data"
    },
    {
     "data": {
      "image/png": "[encoded data removed]",
      "text/plain": [
       "<Figure size 640x480 with 1 Axes>"
      ]
     },
     "metadata": {},
     "output_type": "display_data"
    }
   ],
   "source": [
    "b=df[df.Alloy==2]\n",
    "plt.figure(figsize=(4,2))\n",
    "interaction_plot(np.array(b['Dentist']),np.array(b['Method']),np.array(b['Response']),markers=['D','^','o'])\n",
    "plt.title(\" Interaction Plot Alloy 2\");"
   ]
  },
  {
   "cell_type": "markdown",
   "id": "44361a59",
   "metadata": {},
   "source": [
    "We can clearly say that mean hardness of dental implant is not same when different Dentists are using different Methods in Alloy 2. This interaction is very significant here."
   ]
  },
  {
   "cell_type": "markdown",
   "id": "7292431a",
   "metadata": {},
   "source": [
    "### 4.4 How does the hardness of implants vary depending on dentists and methods together?\n",
    "\"- State the null and alternate hypotheses - Check the assumptions of the hypothesis test. - Conduct the hypothesis test and compute the p-value - Write down conclusions from the test results - Identify which dentists and methods combinations are different, and which interaction levels are different. Note: 1. Both types of alloys cannot be considered together. You must conduct the analysis separately for the two types of alloys. 2. Even if the assumptions of the test fail, kindly proceed with the test.\"\n"
   ]
  },
  {
   "cell_type": "markdown",
   "id": "73ff18e6",
   "metadata": {},
   "source": [
    "#### )-State the null and alternate hypotheses "
   ]
  },
  {
   "cell_type": "markdown",
   "id": "73992821",
   "metadata": {},
   "source": [
    "#### Hypothesis test formulation for Alloy 1\n",
    "###### for Dentist variable\n",
    "\n",
    "H0: The mean implant hardness is same across different Dentists with type 1 Alloy. \n",
    "\n",
    "HA: Mean implant hardness is different for at least one of the Dentist with \n",
    "type 1 Alloy.\n",
    "\n",
    "###### for Method variable\n",
    "\n",
    "H0: The mean implant hardness is same across different Methods with type 1 Alloy. \n",
    "\n",
    "HA: Mean implant hardness is different for at least one of the Method type with type 1 Alloy. \n",
    "\n",
    "###### for both Dentist and Method variables\n",
    "\n",
    "H0: There is no interaction between Dentist and Method types with type 1 Alloy.\n",
    "\n",
    "HA: There is interaction between Dentist and Method types with type 1 Alloy"
   ]
  },
  {
   "cell_type": "markdown",
   "id": "33a87e26",
   "metadata": {},
   "source": [
    "##### Hypothesis test formulation for Alloy 2\n",
    "\n",
    "###### for Dentist variable\n",
    "\n",
    "H0: The mean implant hardness is same across different Dentists with type 2 Alloy. \n",
    "\n",
    "HA: Mean implant hardness is different for at least one of the Dentist with type 2 Alloy. \n",
    "\n",
    "###### for Method variable\n",
    "\n",
    "H0: The mean implant hardness is same across different Methods with type 2 Alloy. \n",
    "\n",
    "HA: Mean implant hardness is different for at least one of the Method type with type 2 Alloy.\n",
    "\n",
    "###### for both Dentist and Method variables\n",
    "\n",
    "H0: There is no interaction between Dentist and Method types with type 1 Alloy. \n",
    "\n",
    "HA: There is interaction between Dentist and Method types with type 1 Alloy"
   ]
  },
  {
   "cell_type": "markdown",
   "id": "91e110ec",
   "metadata": {},
   "source": [
    "##### )- Check the assumptions of the hypothesis test."
   ]
  },
  {
   "cell_type": "markdown",
   "id": "86e28310",
   "metadata": {},
   "source": [
    "The results from an ANOVA test are most reliable when the assumptions of normality and equality of variances are satisfied.\n",
    "\n",
    "For testing of normality, Shapiro-Wilk’s test is applied to the response variable.\n",
    "\n",
    "For equality of variance, Levene test is applied to the response variable.\n",
    "\n",
    "#### Test of Normality (Shapiro) forTo assess the normality of the hardness of implants data for alloy 1 based on the interaction between dentists and methods,"
   ]
  },
  {
   "cell_type": "markdown",
   "id": "f888844a",
   "metadata": {},
   "source": [
    "Null Hypothesis (H0): The hardness of implants data for alloy 1, considering the interaction between dentists and methods, follows a normal distribution.\n",
    "\n",
    "Alternative Hypothesis (Ha): The hardness of implants data for alloy 1, considering the interaction between dentists and methods, does not follow a normal distribution."
   ]
  },
  {
   "cell_type": "code",
   "execution_count": 58,
   "id": "1d6f8e45",
   "metadata": {},
   "outputs": [
    {
     "name": "stdout",
     "output_type": "stream",
     "text": [
      "method 1,with different Dentist\n",
      "p_value: -9.106917104872991e-07\n",
      "p_value: 0.17733535170555115\n",
      "p_value: 0.12336116284132004\n",
      "p_value: 0.7538362145423889\n",
      "p_value: 0.9351651668548584\n",
      "\n",
      "method 2,with different Dentist\n",
      "p_value: 0.5291318893432617\n",
      "p_value: 0.47633662819862366\n",
      "p_value: 0.6724511384963989\n",
      "p_value: 0.8395751118659973\n",
      "p_value: 0.7144943475723267\n",
      "\n",
      "method 3,with different Dentist\n",
      "p_value: 0.75013267993927\n",
      "p_value: 0.482163667678833\n",
      "p_value: -9.106917104872991e-07\n",
      "p_value: 0.9736139178276062\n",
      "p_value: 0.3732281029224396\n"
     ]
    }
   ],
   "source": [
    "#apply shapiro test for Method 1 with different Dentists of Alloy 1 type\n",
    "v = df[df['Alloy'] == 1]\n",
    "print(\"method 1,with different Dentist\")\n",
    "for i in range(1,6):\n",
    "    k=v[(v['Dentist'] == i) & (v['Method'] == 1)]\n",
    "    t,p=shapiro(k[\"Response\"])\n",
    "    print(\"p_value:\",p)\n",
    "#apply shapiro test for Method 2 with different Dentists of Alloy 1 type\n",
    "print(\"\\nmethod 2,with different Dentist\")\n",
    "for i in range(1,6):\n",
    "    k=v[(v['Dentist'] == i) & (v['Method'] == 2)]\n",
    "    t,p=shapiro(k[\"Response\"])\n",
    "    print(\"p_value:\",p)  \n",
    "#apply shapiro test for Method 3 with different Dentists of Alloy 1 type\n",
    "print(\"\\nmethod 3,with different Dentist\")\n",
    "for i in range(1,6):\n",
    "    k=v[(v['Dentist'] == i) & (v['Method'] == 3)]\n",
    "    t,p=shapiro(k[\"Response\"])\n",
    "    print(\"p_value:\",p)    "
   ]
  },
  {
   "cell_type": "markdown",
   "id": "fce78bc5",
   "metadata": {},
   "source": [
    "2 values are only less than  0.05 ,other p values are greater than 0.05,most samples \n",
    "follows The hardness of implants data for alloy 1, considering the interaction between dentists and methods, follows a normal distribution."
   ]
  },
  {
   "cell_type": "markdown",
   "id": "6e107c8e",
   "metadata": {},
   "source": [
    "##### Test of Normality (Shapiro) forTo assess the normality of the hardness of implants data for alloy 2 based on the interaction between dentists and methods,\n",
    "Null Hypothesis (H0): The hardness of implants data for alloy 2, considering the interaction between dentists and methods, follows a normal distribution.\n",
    "\n",
    "Alternative Hypothesis (Ha): The hardness of implants data for alloy 2, considering the interaction between dentists and methods, does not follow a normal distribution."
   ]
  },
  {
   "cell_type": "code",
   "execution_count": 59,
   "id": "81918595",
   "metadata": {},
   "outputs": [
    {
     "name": "stdout",
     "output_type": "stream",
     "text": [
      "method 1,with different Dentist\n",
      "p_value: 0.723876953125\n",
      "p_value: 0.9774916172027588\n",
      "p_value: 0.532307505607605\n",
      "p_value: 0.8160430788993835\n",
      "p_value: 0.6833236217498779\n",
      "\n",
      "method 2,with different Dentist\n",
      "p_value: 0.219557985663414\n",
      "p_value: 0.4166799485683441\n",
      "p_value: 0.6806928515434265\n",
      "p_value: 0.383916437625885\n",
      "p_value: 0.1752912998199463\n",
      "\n",
      "method 3,with different Dentist\n",
      "p_value: 0.15032446384429932\n",
      "p_value: 0.6102096438407898\n",
      "p_value: 0.4384445548057556\n",
      "p_value: 0.35447922348976135\n",
      "p_value: 0.8135352730751038\n"
     ]
    }
   ],
   "source": [
    "b= df[df['Alloy'] == 2]\n",
    "#apply shapiro test for Method 1 with different Dentists of Alloy 2 type\n",
    "print(\"method 1,with different Dentist\")\n",
    "for i in range(1,6):\n",
    "    k=b[(b['Dentist'] == i) & (b['Method'] == 1)]\n",
    "    t,p=shapiro(k[\"Response\"])\n",
    "    print(\"p_value:\",p)\n",
    "#apply shapiro test for Method 2 with different Dentists of Alloy 2 type\n",
    "print(\"\\nmethod 2,with different Dentist\")\n",
    "for i in range(1,6):\n",
    "    k=b[(b['Dentist'] == i) & (b['Method'] == 2)]\n",
    "    t,p=shapiro(k[\"Response\"])\n",
    "    print(\"p_value:\",p)  \n",
    "#apply shapiro test for Method 3 with different Dentists of Alloy 2 type    \n",
    "print(\"\\nmethod 3,with different Dentist\")\n",
    "for i in range(1,6):\n",
    "    k=b[(b['Dentist'] == i) & (b['Method'] == 3)]\n",
    "    t,p=shapiro(k[\"Response\"])\n",
    "    print(\"p_value:\",p)    "
   ]
  },
  {
   "cell_type": "markdown",
   "id": "e9c089b6",
   "metadata": {},
   "source": [
    "all p-values is greater than 0.05,fail to the rejectiosn of null hypothesis,it mean The hardness of implants data for alloy 2, considering the interaction between dentists and methods, follows a normal distribution."
   ]
  },
  {
   "cell_type": "markdown",
   "id": "61e62e6c",
   "metadata": {},
   "source": [
    "#### Levene test of equal variance for Type 1 and Type 2 Alloy for Method variable\n",
    "H0: variances for Type 1 and Type 2 Alloy for Method  and dentists variables are equal\n",
    "\n",
    "Ha: At least one variance is different from the rest"
   ]
  },
  {
   "cell_type": "code",
   "execution_count": 60,
   "id": "3b16be8d",
   "metadata": {},
   "outputs": [
    {
     "name": "stdout",
     "output_type": "stream",
     "text": [
      "method 1 for different dentist\n",
      "levene test  statistic value: 0.5529474397444584 ,p value: 0.701672174101884\n",
      "method 2 for different dentist\n",
      "levene test  statistic value: 0.6201949738770031 ,p value: 0.6583876924956382\n",
      "method 3 for different dentist\n",
      "levene test  statistic value: 1.3678197608692764 ,p value: 0.31229654205500973\n"
     ]
    }
   ],
   "source": [
    "#apply levenes test for Method 1 with different Dentists of Alloy 1 type\n",
    "v = df[(df['Alloy'] == 1)&(df[\"Method\"]==1)]\n",
    "t, p= stats.levene(v[v.Dentist==1]['Response'],\n",
    "                   v[v.Dentist==2]['Response'],\n",
    "                   v[v.Dentist==3]['Response'],\n",
    "                   v[v.Dentist==4]['Response'],\n",
    "                   v[v.Dentist==5]['Response'])\n",
    "print('method 1 for different dentist\\nlevene test  statistic value:',t,\",p value:\",p)\n",
    "#apply shapiro test for Method 2 with different Dentists of Alloy 1 type\n",
    "v = df[(df['Alloy'] == 1)&(df[\"Method\"]==2)]\n",
    "t, p= stats.levene(v[v.Dentist==1]['Response'],\n",
    "                   v[v.Dentist==2]['Response'],\n",
    "                   v[v.Dentist==3]['Response'],\n",
    "                   v[v.Dentist==4]['Response'],\n",
    "                   v[v.Dentist==5]['Response'])\n",
    "print('method 2 for different dentist\\nlevene test  statistic value:',t,\",p value:\",p)\n",
    "#apply shapiro test for Method 3 with different Dentists of Alloy 1 type\n",
    "v = df[(df['Alloy'] == 1)&(df[\"Method\"]==3)]\n",
    "t, p= stats.levene(v[v.Dentist==1]['Response'],\n",
    "                   v[v.Dentist==2]['Response'],\n",
    "                   v[v.Dentist==3]['Response'],\n",
    "                   v[v.Dentist==4]['Response'],\n",
    "                   v[v.Dentist==5]['Response'])\n",
    "print('method 3 for different dentist\\nlevene test  statistic value:',t,\",p value:\",p)"
   ]
  },
  {
   "cell_type": "code",
   "execution_count": 61,
   "id": "76049469",
   "metadata": {},
   "outputs": [
    {
     "name": "stdout",
     "output_type": "stream",
     "text": [
      "method 1 for different dentist\n",
      "levene test  statistic value: 0.8621300400689107 ,p value: 0.5187591390344544\n",
      "method 2 for different dentist\n",
      "levene test  statistic value: 0.6201949738770031 ,p value: 0.6583876924956382\n",
      "method 3 for different dentist\n",
      "levene test  statistic value: 1.3678197608692764 ,p value: 0.31229654205500973\n"
     ]
    }
   ],
   "source": [
    "#apply Levens test for Method 1 with different Dentists of Alloy 2 type\n",
    "v = df[(df['Alloy'] == 2)&(df[\"Method\"]==1)]\n",
    "t, p= stats.levene(v[v.Dentist==1]['Response'],\n",
    "                   v[v.Dentist==2]['Response'],\n",
    "                   v[v.Dentist==3]['Response'],\n",
    "                   v[v.Dentist==4]['Response'],\n",
    "                   v[v.Dentist==5]['Response'])\n",
    "print('method 1 for different dentist\\nlevene test  statistic value:',t,\",p value:\",p)\n",
    "#apply shapiro test for Method 2 with different Dentists of Alloy 2 type\n",
    "v = df[(df['Alloy'] == 1)&(df[\"Method\"]==2)]\n",
    "t, p= stats.levene(v[v.Dentist==1]['Response'],\n",
    "                   v[v.Dentist==2]['Response'],\n",
    "                   v[v.Dentist==3]['Response'],\n",
    "                   v[v.Dentist==4]['Response'],\n",
    "                   v[v.Dentist==5]['Response'])\n",
    "print('method 2 for different dentist\\nlevene test  statistic value:',t,\",p value:\",p)\n",
    "#apply shapiro test for Method 3 with different Dentists of Alloy 2 type\n",
    "v = df[(df['Alloy'] == 1)&(df[\"Method\"]==3)]\n",
    "t, p= stats.levene(v[v.Dentist==1]['Response'],\n",
    "                   v[v.Dentist==2]['Response'],\n",
    "                   v[v.Dentist==3]['Response'],\n",
    "                   v[v.Dentist==4]['Response'],\n",
    "                   v[v.Dentist==5]['Response'])\n",
    "print('method 3 for different dentist\\nlevene test  statistic value:',t,\",p value:\",p)"
   ]
  },
  {
   "cell_type": "markdown",
   "id": "257a5b3b",
   "metadata": {},
   "source": [
    "p values for alloy 1 and alloy 2  are greater than 0.05,fail to reject the null hypothesis,it means the variances for Type 1 and Type 2 Alloy for Method and dentists variables are equal\n"
   ]
  },
  {
   "cell_type": "markdown",
   "id": "fe3b53d8",
   "metadata": {},
   "source": [
    "then go to the anova test"
   ]
  },
  {
   "cell_type": "markdown",
   "id": "96984415",
   "metadata": {},
   "source": [
    "#### Hypothesis test formulation for Alloy 1\n",
    "###### for different Dentists\n",
    "H0: The mean implant hardness is same across different Dentists with type 1 Alloy. \n",
    "\n",
    "HA: Mean implant hardness is different for at least one of the Dentist with type 1 Alloy.\n",
    "\n",
    "###### for different Methods\n",
    "H0: The mean implant hardness is same across different Methods with type 1 Alloy. \n",
    "\n",
    "HA: Mean implant hardness is different for at least one of the Method type with type 1 Alloy.\n",
    "\n",
    "###### for interaction b/w Dentists and Method variables\n",
    "\n",
    "H0: There is no interaction between Dentist and Method types with type 1 Alloy.\n",
    "\n",
    "HA: There is interaction between Dentist and Method types with type 1 Alloy"
   ]
  },
  {
   "cell_type": "code",
   "execution_count": 62,
   "id": "b956d956",
   "metadata": {},
   "outputs": [
    {
     "data": {
      "text/html": [
       "<div>\n",
       "<style scoped>\n",
       "    .dataframe tbody tr th:only-of-type {\n",
       "        vertical-align: middle;\n",
       "    }\n",
       "\n",
       "    .dataframe tbody tr th {\n",
       "        vertical-align: top;\n",
       "    }\n",
       "\n",
       "    .dataframe thead th {\n",
       "        text-align: right;\n",
       "    }\n",
       "</style>\n",
       "<table border=\"1\" class=\"dataframe\">\n",
       "  <thead>\n",
       "    <tr style=\"text-align: right;\">\n",
       "      <th></th>\n",
       "      <th>df</th>\n",
       "      <th>sum_sq</th>\n",
       "      <th>mean_sq</th>\n",
       "      <th>F</th>\n",
       "      <th>PR(&gt;F)</th>\n",
       "    </tr>\n",
       "  </thead>\n",
       "  <tbody>\n",
       "    <tr>\n",
       "      <th>C(Dentist)</th>\n",
       "      <td>4.0</td>\n",
       "      <td>106683.688889</td>\n",
       "      <td>26670.922222</td>\n",
       "      <td>2.591255</td>\n",
       "      <td>0.051875</td>\n",
       "    </tr>\n",
       "    <tr>\n",
       "      <th>C(Method)</th>\n",
       "      <td>2.0</td>\n",
       "      <td>148472.177778</td>\n",
       "      <td>74236.088889</td>\n",
       "      <td>7.212522</td>\n",
       "      <td>0.002211</td>\n",
       "    </tr>\n",
       "    <tr>\n",
       "      <th>Residual</th>\n",
       "      <td>38.0</td>\n",
       "      <td>391121.377778</td>\n",
       "      <td>10292.667836</td>\n",
       "      <td>NaN</td>\n",
       "      <td>NaN</td>\n",
       "    </tr>\n",
       "  </tbody>\n",
       "</table>\n",
       "</div>"
      ],
      "text/plain": [
       "              df         sum_sq       mean_sq         F    PR(>F)\n",
       "C(Dentist)   4.0  106683.688889  26670.922222  2.591255  0.051875\n",
       "C(Method)    2.0  148472.177778  74236.088889  7.212522  0.002211\n",
       "Residual    38.0  391121.377778  10292.667836       NaN       NaN"
      ]
     },
     "execution_count": 62,
     "metadata": {},
     "output_type": "execute_result"
    }
   ],
   "source": [
    "#create data frame with Alloy 1 type\n",
    "s=df[df.Alloy==1]\n",
    "##Define the formula with  function Dentist and Method variables\n",
    "formula=\"Response~C(Dentist)+C(Method)\"\n",
    "# Create the model using the formula\n",
    "model=ols(formula,s).fit()\n",
    "# Compute the ANOVA table\n",
    "ano=anova_lm(model)\n",
    "ano"
   ]
  },
  {
   "cell_type": "markdown",
   "id": "000bdc56",
   "metadata": {},
   "source": [
    "####  Interaction b/w Dentists and Method variables for Alloy 1"
   ]
  },
  {
   "cell_type": "code",
   "execution_count": 63,
   "id": "7688be93",
   "metadata": {
    "scrolled": true
   },
   "outputs": [
    {
     "data": {
      "text/html": [
       "<div>\n",
       "<style scoped>\n",
       "    .dataframe tbody tr th:only-of-type {\n",
       "        vertical-align: middle;\n",
       "    }\n",
       "\n",
       "    .dataframe tbody tr th {\n",
       "        vertical-align: top;\n",
       "    }\n",
       "\n",
       "    .dataframe thead th {\n",
       "        text-align: right;\n",
       "    }\n",
       "</style>\n",
       "<table border=\"1\" class=\"dataframe\">\n",
       "  <thead>\n",
       "    <tr style=\"text-align: right;\">\n",
       "      <th></th>\n",
       "      <th>df</th>\n",
       "      <th>sum_sq</th>\n",
       "      <th>mean_sq</th>\n",
       "      <th>F</th>\n",
       "      <th>PR(&gt;F)</th>\n",
       "    </tr>\n",
       "  </thead>\n",
       "  <tbody>\n",
       "    <tr>\n",
       "      <th>C(Dentist)</th>\n",
       "      <td>4.0</td>\n",
       "      <td>106683.688889</td>\n",
       "      <td>26670.922222</td>\n",
       "      <td>3.899638</td>\n",
       "      <td>0.011484</td>\n",
       "    </tr>\n",
       "    <tr>\n",
       "      <th>C(Method)</th>\n",
       "      <td>2.0</td>\n",
       "      <td>148472.177778</td>\n",
       "      <td>74236.088889</td>\n",
       "      <td>10.854287</td>\n",
       "      <td>0.000284</td>\n",
       "    </tr>\n",
       "    <tr>\n",
       "      <th>C(Dentist):C(Method)</th>\n",
       "      <td>8.0</td>\n",
       "      <td>185941.377778</td>\n",
       "      <td>23242.672222</td>\n",
       "      <td>3.398383</td>\n",
       "      <td>0.006793</td>\n",
       "    </tr>\n",
       "    <tr>\n",
       "      <th>Residual</th>\n",
       "      <td>30.0</td>\n",
       "      <td>205180.000000</td>\n",
       "      <td>6839.333333</td>\n",
       "      <td>NaN</td>\n",
       "      <td>NaN</td>\n",
       "    </tr>\n",
       "  </tbody>\n",
       "</table>\n",
       "</div>"
      ],
      "text/plain": [
       "                        df         sum_sq       mean_sq          F    PR(>F)\n",
       "C(Dentist)             4.0  106683.688889  26670.922222   3.899638  0.011484\n",
       "C(Method)              2.0  148472.177778  74236.088889  10.854287  0.000284\n",
       "C(Dentist):C(Method)   8.0  185941.377778  23242.672222   3.398383  0.006793\n",
       "Residual              30.0  205180.000000   6839.333333        NaN       NaN"
      ]
     },
     "execution_count": 63,
     "metadata": {},
     "output_type": "execute_result"
    }
   ],
   "source": [
    "#Define the formula with  function Dentist and Method variables and intraction b/w this 2 variables\n",
    "formula=\"Response~C(Dentist)+C(Method)+C(Dentist):C(Method)\"\n",
    "#create model using formula \n",
    "model=ols(formula,s).fit()\n",
    "#compute anova table\n",
    "ano=anova_lm(model)\n",
    "ano"
   ]
  },
  {
   "cell_type": "markdown",
   "id": "70d5e0eb",
   "metadata": {},
   "source": [
    "*There is a statistically significant interaction effect between Dentist and Method on implant hardness, as the p-value for the interaction effect is less than the significance level (0.006793).\n",
    "*The hardness of implants significantly varies depending on the method used (Main Effect of Method), as indicated by the very small p-value (0.000284).\n",
    "\n",
    "*There is a statistically significant difference in implant hardness among different dentists (Main Effect of Dentist), as the p-value is less than the significance level (0.011484).\n"
   ]
  },
  {
   "cell_type": "markdown",
   "id": "c1b9ebe6",
   "metadata": {},
   "source": [
    "##### Therefore,In Alloy 1 the variation in implant hardness is influenced by both the specific dentist and the method used, and there is a significant interaction effect between these two factors."
   ]
  },
  {
   "cell_type": "markdown",
   "id": "bec34936",
   "metadata": {},
   "source": [
    "#### Hypothesis test formulation for Alloy 2\n",
    "###### for different Dentists\n",
    "H0: The mean implant hardness is same across different Dentists with type 2 Alloy.\n",
    "\n",
    "HA: Mean implant hardness is different for at least one of the Dentist with type 2 Alloy.\n",
    "\n",
    "###### for different Methods\n",
    "H0: The mean implant hardness is same across different Methods with type 2 Alloy.\n",
    "\n",
    "HA: Mean implant hardness is different for at least one of the Method type with type 2 Alloy.\n",
    "\n",
    "###### for interaction b/w Dentists and Method variables\n",
    "\n",
    "H0: There is no interaction between Dentist and Method types with type 2 Alloy.\n",
    "\n",
    "HA: There is interaction between Dentist and Method types with type 2 Alloy"
   ]
  },
  {
   "cell_type": "code",
   "execution_count": 64,
   "id": "c1fe8a66",
   "metadata": {},
   "outputs": [
    {
     "data": {
      "text/html": [
       "<div>\n",
       "<style scoped>\n",
       "    .dataframe tbody tr th:only-of-type {\n",
       "        vertical-align: middle;\n",
       "    }\n",
       "\n",
       "    .dataframe tbody tr th {\n",
       "        vertical-align: top;\n",
       "    }\n",
       "\n",
       "    .dataframe thead th {\n",
       "        text-align: right;\n",
       "    }\n",
       "</style>\n",
       "<table border=\"1\" class=\"dataframe\">\n",
       "  <thead>\n",
       "    <tr style=\"text-align: right;\">\n",
       "      <th></th>\n",
       "      <th>df</th>\n",
       "      <th>sum_sq</th>\n",
       "      <th>mean_sq</th>\n",
       "      <th>F</th>\n",
       "      <th>PR(&gt;F)</th>\n",
       "    </tr>\n",
       "  </thead>\n",
       "  <tbody>\n",
       "    <tr>\n",
       "      <th>C(Dentist)</th>\n",
       "      <td>4.0</td>\n",
       "      <td>56797.911111</td>\n",
       "      <td>14199.477778</td>\n",
       "      <td>0.926215</td>\n",
       "      <td>0.458933</td>\n",
       "    </tr>\n",
       "    <tr>\n",
       "      <th>C(Method)</th>\n",
       "      <td>2.0</td>\n",
       "      <td>499640.400000</td>\n",
       "      <td>249820.200000</td>\n",
       "      <td>16.295479</td>\n",
       "      <td>0.000008</td>\n",
       "    </tr>\n",
       "    <tr>\n",
       "      <th>Residual</th>\n",
       "      <td>38.0</td>\n",
       "      <td>582564.488889</td>\n",
       "      <td>15330.644444</td>\n",
       "      <td>NaN</td>\n",
       "      <td>NaN</td>\n",
       "    </tr>\n",
       "  </tbody>\n",
       "</table>\n",
       "</div>"
      ],
      "text/plain": [
       "              df         sum_sq        mean_sq          F    PR(>F)\n",
       "C(Dentist)   4.0   56797.911111   14199.477778   0.926215  0.458933\n",
       "C(Method)    2.0  499640.400000  249820.200000  16.295479  0.000008\n",
       "Residual    38.0  582564.488889   15330.644444        NaN       NaN"
      ]
     },
     "execution_count": 64,
     "metadata": {},
     "output_type": "execute_result"
    }
   ],
   "source": [
    "#create data frame with alloy type 2\n",
    "b=df[df.Alloy==2]\n",
    "##Define the formula with  function Dentist and Method variables\n",
    "formula=\"Response~C(Dentist)+C(Method)\"\n",
    "# Create the model using the formula\n",
    "model=ols(formula,b).fit()\n",
    "#compute anova table\n",
    "ano=anova_lm(model)\n",
    "ano"
   ]
  },
  {
   "cell_type": "markdown",
   "id": "119a818b",
   "metadata": {},
   "source": [
    "#### Interaction b/w Dentists and Method variables for Alloy 2"
   ]
  },
  {
   "cell_type": "code",
   "execution_count": 65,
   "id": "b1a18cdf",
   "metadata": {},
   "outputs": [
    {
     "data": {
      "text/html": [
       "<div>\n",
       "<style scoped>\n",
       "    .dataframe tbody tr th:only-of-type {\n",
       "        vertical-align: middle;\n",
       "    }\n",
       "\n",
       "    .dataframe tbody tr th {\n",
       "        vertical-align: top;\n",
       "    }\n",
       "\n",
       "    .dataframe thead th {\n",
       "        text-align: right;\n",
       "    }\n",
       "</style>\n",
       "<table border=\"1\" class=\"dataframe\">\n",
       "  <thead>\n",
       "    <tr style=\"text-align: right;\">\n",
       "      <th></th>\n",
       "      <th>df</th>\n",
       "      <th>sum_sq</th>\n",
       "      <th>mean_sq</th>\n",
       "      <th>F</th>\n",
       "      <th>PR(&gt;F)</th>\n",
       "    </tr>\n",
       "  </thead>\n",
       "  <tbody>\n",
       "    <tr>\n",
       "      <th>C(Dentist)</th>\n",
       "      <td>4.0</td>\n",
       "      <td>56797.911111</td>\n",
       "      <td>14199.477778</td>\n",
       "      <td>1.106152</td>\n",
       "      <td>0.371833</td>\n",
       "    </tr>\n",
       "    <tr>\n",
       "      <th>C(Method)</th>\n",
       "      <td>2.0</td>\n",
       "      <td>499640.400000</td>\n",
       "      <td>249820.200000</td>\n",
       "      <td>19.461218</td>\n",
       "      <td>0.000004</td>\n",
       "    </tr>\n",
       "    <tr>\n",
       "      <th>C(Dentist):C(Method)</th>\n",
       "      <td>8.0</td>\n",
       "      <td>197459.822222</td>\n",
       "      <td>24682.477778</td>\n",
       "      <td>1.922787</td>\n",
       "      <td>0.093234</td>\n",
       "    </tr>\n",
       "    <tr>\n",
       "      <th>Residual</th>\n",
       "      <td>30.0</td>\n",
       "      <td>385104.666667</td>\n",
       "      <td>12836.822222</td>\n",
       "      <td>NaN</td>\n",
       "      <td>NaN</td>\n",
       "    </tr>\n",
       "  </tbody>\n",
       "</table>\n",
       "</div>"
      ],
      "text/plain": [
       "                        df         sum_sq        mean_sq          F    PR(>F)\n",
       "C(Dentist)             4.0   56797.911111   14199.477778   1.106152  0.371833\n",
       "C(Method)              2.0  499640.400000  249820.200000  19.461218  0.000004\n",
       "C(Dentist):C(Method)   8.0  197459.822222   24682.477778   1.922787  0.093234\n",
       "Residual              30.0  385104.666667   12836.822222        NaN       NaN"
      ]
     },
     "execution_count": 65,
     "metadata": {},
     "output_type": "execute_result"
    }
   ],
   "source": [
    "#Define the formula with  function Dentist and Method variables and intraction b/w this 2 variables\n",
    "formula=\"Response~C(Dentist)+C(Method)+C(Dentist):C(Method)\"\n",
    "# Create the model using the formula\n",
    "model=ols(formula,b).fit()\n",
    "#compute anova table\n",
    "ano=anova_lm(model)\n",
    "ano"
   ]
  },
  {
   "cell_type": "markdown",
   "id": "0e54f113",
   "metadata": {},
   "source": [
    "There is no statistically significant interaction effect between Dentist and Method on implant hardness, as the p-value for the interaction effect is greater than the significance level ,(fail to rejection of null hypothesis)."
   ]
  },
  {
   "cell_type": "markdown",
   "id": "96d42f09",
   "metadata": {},
   "source": [
    "*The hardness of implants significantly varies depending on the method used (Main Effect of Method), as indicated by the very small p-value (0.000004).\n",
    "\n",
    "*There is no statistically significant difference in implant hardness among different dentists (Main Effect of Dentist), as the p-value is greater than the significance level (0.371833)."
   ]
  },
  {
   "cell_type": "markdown",
   "id": "603448a3",
   "metadata": {},
   "source": [
    "##### Therefore,In Alloy 2 the variation in implant hardness is mainly associated with the method used, while the specific dentist does not significantly affect the hardness, and there is no strong interaction effect between the two factors."
   ]
  },
  {
   "cell_type": "code",
   "execution_count": null,
   "id": "d8a79a6f",
   "metadata": {},
   "outputs": [],
   "source": []
  }
 ],
 "metadata": {
  "kernelspec": {
   "display_name": "Python 3 (ipykernel)",
   "language": "python",
   "name": "python3"
  },
  "language_info": {
   "codemirror_mode": {
    "name": "ipython",
    "version": 3
   },
   "file_extension": ".py",
   "mimetype": "text/x-python",
   "name": "python",
   "nbconvert_exporter": "python",
   "pygments_lexer": "ipython3",
   "version": "3.11.3"
  }
 },
 "nbformat": 4,
 "nbformat_minor": 5
}
